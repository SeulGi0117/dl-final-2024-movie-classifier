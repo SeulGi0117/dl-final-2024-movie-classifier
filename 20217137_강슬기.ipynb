{
 "cells": [
  {
   "cell_type": "code",
   "execution_count": 2,
   "id": "52b5beb3230ec67b",
   "metadata": {
    "ExecuteTime": {
     "end_time": "2024-11-25T11:53:10.025307Z",
     "start_time": "2024-11-25T11:53:05.353689Z"
    }
   },
   "outputs": [],
   "source": [
    "import os\n",
    "import random\n",
    "\n",
    "import cv2\n",
    "import albumentations as A\n",
    "import numpy as np\n",
    "import pandas as pd\n",
    "\n",
    "import torch\n",
    "import torch.nn as nn\n",
    "import torch.optim as optim\n",
    "\n",
    "from albumentations.pytorch import ToTensorV2\n",
    "from matplotlib import pyplot as plt\n",
    "from sklearn.model_selection import train_test_split, StratifiedKFold\n",
    "from sklearn.preprocessing import MultiLabelBinarizer\n",
    "from sklearn.metrics import multilabel_confusion_matrix\n",
    "from torch.utils.data import Dataset, DataLoader\n",
    "from tqdm import tqdm, trange\n",
    "\n",
    "import time\n"
   ]
  },
  {
   "cell_type": "code",
   "execution_count": 3,
   "id": "7ba08f2c",
   "metadata": {},
   "outputs": [
    {
     "name": "stdout",
     "output_type": "stream",
     "text": [
      "True\n",
      "NVIDIA GeForce RTX 4080 SUPER\n"
     ]
    }
   ],
   "source": [
    "import torch\n",
    "print(torch.cuda.is_available())\n",
    "print(torch.cuda.get_device_name(0))\n"
   ]
  },
  {
   "cell_type": "code",
   "execution_count": 4,
   "id": "f4934151",
   "metadata": {},
   "outputs": [
    {
     "name": "stdout",
     "output_type": "stream",
     "text": [
      "True\n",
      "cuda\n"
     ]
    }
   ],
   "source": [
    "print(torch.cuda.is_available())\n",
    "device = 'cuda' if torch.cuda.is_available() else 'cpu'\n",
    "print(device)"
   ]
  },
  {
   "cell_type": "code",
   "execution_count": 5,
   "id": "38a41c4db1913c5c",
   "metadata": {
    "ExecuteTime": {
     "end_time": "2024-11-25T11:53:10.041310Z",
     "start_time": "2024-11-25T11:53:10.029307Z"
    }
   },
   "outputs": [],
   "source": [
    "# randomness 제어를 위한 시드 고정 (학습 결과 재현을 위해 고정)\n",
    "def set_seed(seed=0):\n",
    "    random.seed(seed)\n",
    "    np.random.seed(seed)\n",
    "    torch.manual_seed(seed)\n",
    "    torch.cuda.manual_seed(seed)\n",
    "    torch.cuda.manual_seed_all(seed)\n",
    "    torch.backends.cudnn.deterministic = True\n",
    "    torch.backends.cudnn.benchmark = True\n",
    "    torch.cuda.empty_cache()\n",
    "\n",
    "\n",
    "# 시드 값 선택\n",
    "SEED = 42\n",
    "set_seed(SEED)\n",
    "\n",
    "# 학습 장치 결정\n",
    "device = 'cuda' if torch.cuda.is_available() else 'cpu'"
   ]
  },
  {
   "cell_type": "code",
   "execution_count": 6,
   "id": "83e649ca",
   "metadata": {},
   "outputs": [
    {
     "name": "stderr",
     "output_type": "stream",
     "text": [
      "100%|██████████| 100/100 [00:01<00:00, 66.08it/s]\n",
      "100%|██████████| 100/100 [00:01<00:00, 66.41it/s]\n",
      "100%|██████████| 100/100 [00:01<00:00, 66.28it/s]\n",
      "100%|██████████| 100/100 [00:01<00:00, 66.23it/s]\n",
      "100%|██████████| 100/100 [00:01<00:00, 66.25it/s]\n",
      "100%|██████████| 100/100 [00:01<00:00, 66.32it/s]\n",
      "100%|██████████| 100/100 [00:01<00:00, 66.34it/s]\n",
      "100%|██████████| 100/100 [00:01<00:00, 66.38it/s]\n",
      "100%|██████████| 5/5 [00:07<00:00,  1.51s/it]\n"
     ]
    }
   ],
   "source": [
    "##### tqdm 사용법 #####\n",
    "import time\n",
    "\n",
    "# trange\n",
    "for i in trange(100):\n",
    "    time.sleep(0.01)\n",
    "\n",
    "# tqdm\n",
    "for _ in tqdm(list(range(100))): \n",
    "    time.sleep(0.01)\n",
    "    \n",
    "# iterable 객체는 모두 사용 가능, zip()이나 enumerate()와 같이 __len__()이 없는 경우 total=len(a)와 같이 명시\n",
    "for _ in tqdm(zip(list(range(100)), list(range(100))), total=len(range(100))):\n",
    "    time.sleep(0.01)\n",
    "\n",
    "# 이중 반복문에서 사용\n",
    "for _ in tqdm(list(range(5))):\n",
    "    for _ in tqdm(list(range(100))):\n",
    "        time.sleep(0.01)"
   ]
  },
  {
   "cell_type": "markdown",
   "id": "875940ffd9714dde",
   "metadata": {},
   "source": [
    "## Data Preprocessing"
   ]
  },
  {
   "cell_type": "code",
   "execution_count": 7,
   "id": "d12d53b546de5993",
   "metadata": {
    "ExecuteTime": {
     "end_time": "2024-11-25T11:53:10.120018Z",
     "start_time": "2024-11-25T11:53:10.105868Z"
    }
   },
   "outputs": [],
   "source": [
    "# 경로 설정 (로컬 환경인 경우 자신의 경로로 설정)\n",
    "root_dir = 'C:/sg0117/hallym/2024-dl-final/'\n",
    "save_dir = \"C:/sg0117/hallym/2024-dl-final/save_data/\"\n",
    "\n",
    "train_dir = root_dir + 'train/'\n",
    "train_w2v_dir = root_dir + 'train_w2v/'\n",
    "test_dir = root_dir + 'test/'\n",
    "test_w2v_dir = root_dir + 'test_w2v/'"
   ]
  },
  {
   "cell_type": "code",
   "execution_count": 8,
   "id": "2fc56070e4af30d9",
   "metadata": {
    "ExecuteTime": {
     "end_time": "2024-11-25T11:53:10.166528Z",
     "start_time": "2024-11-25T11:53:10.136022Z"
    }
   },
   "outputs": [],
   "source": [
    "train_df = pd.read_csv(root_dir + 'train.csv')\n",
    "test_df = pd.read_csv(root_dir + 'test.csv')"
   ]
  },
  {
   "cell_type": "code",
   "execution_count": 9,
   "id": "cfd9b8f0bbfbc6f8",
   "metadata": {
    "ExecuteTime": {
     "end_time": "2024-11-25T11:53:10.197686Z",
     "start_time": "2024-11-25T11:53:10.182683Z"
    }
   },
   "outputs": [
    {
     "data": {
      "text/html": [
       "<div>\n",
       "<style scoped>\n",
       "    .dataframe tbody tr th:only-of-type {\n",
       "        vertical-align: middle;\n",
       "    }\n",
       "\n",
       "    .dataframe tbody tr th {\n",
       "        vertical-align: top;\n",
       "    }\n",
       "\n",
       "    .dataframe thead th {\n",
       "        text-align: right;\n",
       "    }\n",
       "</style>\n",
       "<table border=\"1\" class=\"dataframe\">\n",
       "  <thead>\n",
       "    <tr style=\"text-align: right;\">\n",
       "      <th></th>\n",
       "      <th>id</th>\n",
       "      <th>path</th>\n",
       "      <th>w2v_path</th>\n",
       "      <th>title</th>\n",
       "      <th>year</th>\n",
       "      <th>genres</th>\n",
       "    </tr>\n",
       "  </thead>\n",
       "  <tbody>\n",
       "    <tr>\n",
       "      <th>0</th>\n",
       "      <td>13</td>\n",
       "      <td>/kaggle/input/2024-dl-final/train/13.jpg</td>\n",
       "      <td>/kaggle/input/2024-dl-final/train_w2v/13.npy</td>\n",
       "      <td>Forrest Gump</td>\n",
       "      <td>1994</td>\n",
       "      <td>['Comedy', 'Drama', 'Romance']</td>\n",
       "    </tr>\n",
       "    <tr>\n",
       "      <th>1</th>\n",
       "      <td>55</td>\n",
       "      <td>/kaggle/input/2024-dl-final/train/55.jpg</td>\n",
       "      <td>/kaggle/input/2024-dl-final/train_w2v/55.npy</td>\n",
       "      <td>Amores Perros</td>\n",
       "      <td>2000</td>\n",
       "      <td>['Drama', 'Thriller']</td>\n",
       "    </tr>\n",
       "    <tr>\n",
       "      <th>2</th>\n",
       "      <td>64</td>\n",
       "      <td>/kaggle/input/2024-dl-final/train/64.jpg</td>\n",
       "      <td>/kaggle/input/2024-dl-final/train_w2v/64.npy</td>\n",
       "      <td>Talk to Her</td>\n",
       "      <td>2002</td>\n",
       "      <td>['Drama', 'Romance']</td>\n",
       "    </tr>\n",
       "    <tr>\n",
       "      <th>3</th>\n",
       "      <td>80</td>\n",
       "      <td>/kaggle/input/2024-dl-final/train/80.jpg</td>\n",
       "      <td>/kaggle/input/2024-dl-final/train_w2v/80.npy</td>\n",
       "      <td>Before Sunset</td>\n",
       "      <td>2004</td>\n",
       "      <td>['Drama', 'Romance']</td>\n",
       "    </tr>\n",
       "    <tr>\n",
       "      <th>4</th>\n",
       "      <td>86</td>\n",
       "      <td>/kaggle/input/2024-dl-final/train/86.jpg</td>\n",
       "      <td>/kaggle/input/2024-dl-final/train_w2v/86.npy</td>\n",
       "      <td>The Elementary Particles</td>\n",
       "      <td>2006</td>\n",
       "      <td>['Drama', 'Romance']</td>\n",
       "    </tr>\n",
       "  </tbody>\n",
       "</table>\n",
       "</div>"
      ],
      "text/plain": [
       "   id                                      path  \\\n",
       "0  13  /kaggle/input/2024-dl-final/train/13.jpg   \n",
       "1  55  /kaggle/input/2024-dl-final/train/55.jpg   \n",
       "2  64  /kaggle/input/2024-dl-final/train/64.jpg   \n",
       "3  80  /kaggle/input/2024-dl-final/train/80.jpg   \n",
       "4  86  /kaggle/input/2024-dl-final/train/86.jpg   \n",
       "\n",
       "                                       w2v_path                     title  \\\n",
       "0  /kaggle/input/2024-dl-final/train_w2v/13.npy              Forrest Gump   \n",
       "1  /kaggle/input/2024-dl-final/train_w2v/55.npy             Amores Perros   \n",
       "2  /kaggle/input/2024-dl-final/train_w2v/64.npy               Talk to Her   \n",
       "3  /kaggle/input/2024-dl-final/train_w2v/80.npy             Before Sunset   \n",
       "4  /kaggle/input/2024-dl-final/train_w2v/86.npy  The Elementary Particles   \n",
       "\n",
       "   year                          genres  \n",
       "0  1994  ['Comedy', 'Drama', 'Romance']  \n",
       "1  2000           ['Drama', 'Thriller']  \n",
       "2  2002            ['Drama', 'Romance']  \n",
       "3  2004            ['Drama', 'Romance']  \n",
       "4  2006            ['Drama', 'Romance']  "
      ]
     },
     "execution_count": 9,
     "metadata": {},
     "output_type": "execute_result"
    }
   ],
   "source": [
    "train_df.head(5)"
   ]
  },
  {
   "cell_type": "code",
   "execution_count": 10,
   "id": "1e357aa692e0b0a5",
   "metadata": {
    "ExecuteTime": {
     "end_time": "2024-11-25T11:53:10.260220Z",
     "start_time": "2024-11-25T11:53:10.245218Z"
    }
   },
   "outputs": [
    {
     "data": {
      "text/html": [
       "<div>\n",
       "<style scoped>\n",
       "    .dataframe tbody tr th:only-of-type {\n",
       "        vertical-align: middle;\n",
       "    }\n",
       "\n",
       "    .dataframe tbody tr th {\n",
       "        vertical-align: top;\n",
       "    }\n",
       "\n",
       "    .dataframe thead th {\n",
       "        text-align: right;\n",
       "    }\n",
       "</style>\n",
       "<table border=\"1\" class=\"dataframe\">\n",
       "  <thead>\n",
       "    <tr style=\"text-align: right;\">\n",
       "      <th></th>\n",
       "      <th>id</th>\n",
       "      <th>path</th>\n",
       "      <th>w2v_path</th>\n",
       "      <th>title</th>\n",
       "      <th>year</th>\n",
       "    </tr>\n",
       "  </thead>\n",
       "  <tbody>\n",
       "    <tr>\n",
       "      <th>0</th>\n",
       "      <td>32</td>\n",
       "      <td>/kaggle/input/2024-dl-final/test/32.jpg</td>\n",
       "      <td>/kaggle/input/2024-dl-final/test_w2v/32.npy</td>\n",
       "      <td>Cannon Fodder</td>\n",
       "      <td>1995</td>\n",
       "    </tr>\n",
       "    <tr>\n",
       "      <th>1</th>\n",
       "      <td>91</td>\n",
       "      <td>/kaggle/input/2024-dl-final/test/91.jpg</td>\n",
       "      <td>/kaggle/input/2024-dl-final/test_w2v/91.npy</td>\n",
       "      <td>Land Without Bread</td>\n",
       "      <td>1933</td>\n",
       "    </tr>\n",
       "    <tr>\n",
       "      <th>2</th>\n",
       "      <td>114</td>\n",
       "      <td>/kaggle/input/2024-dl-final/test/114.jpg</td>\n",
       "      <td>/kaggle/input/2024-dl-final/test_w2v/114.npy</td>\n",
       "      <td>Pretty Woman</td>\n",
       "      <td>1990</td>\n",
       "    </tr>\n",
       "    <tr>\n",
       "      <th>3</th>\n",
       "      <td>142</td>\n",
       "      <td>/kaggle/input/2024-dl-final/test/142.jpg</td>\n",
       "      <td>/kaggle/input/2024-dl-final/test_w2v/142.npy</td>\n",
       "      <td>Brokeback Mountain</td>\n",
       "      <td>2005</td>\n",
       "    </tr>\n",
       "    <tr>\n",
       "      <th>4</th>\n",
       "      <td>156</td>\n",
       "      <td>/kaggle/input/2024-dl-final/test/156.jpg</td>\n",
       "      <td>/kaggle/input/2024-dl-final/test_w2v/156.npy</td>\n",
       "      <td>Wilbur Wants to Kill Himself</td>\n",
       "      <td>2002</td>\n",
       "    </tr>\n",
       "  </tbody>\n",
       "</table>\n",
       "</div>"
      ],
      "text/plain": [
       "    id                                      path  \\\n",
       "0   32   /kaggle/input/2024-dl-final/test/32.jpg   \n",
       "1   91   /kaggle/input/2024-dl-final/test/91.jpg   \n",
       "2  114  /kaggle/input/2024-dl-final/test/114.jpg   \n",
       "3  142  /kaggle/input/2024-dl-final/test/142.jpg   \n",
       "4  156  /kaggle/input/2024-dl-final/test/156.jpg   \n",
       "\n",
       "                                       w2v_path                         title  \\\n",
       "0   /kaggle/input/2024-dl-final/test_w2v/32.npy                Cannon Fodder    \n",
       "1   /kaggle/input/2024-dl-final/test_w2v/91.npy            Land Without Bread   \n",
       "2  /kaggle/input/2024-dl-final/test_w2v/114.npy                  Pretty Woman   \n",
       "3  /kaggle/input/2024-dl-final/test_w2v/142.npy            Brokeback Mountain   \n",
       "4  /kaggle/input/2024-dl-final/test_w2v/156.npy  Wilbur Wants to Kill Himself   \n",
       "\n",
       "   year  \n",
       "0  1995  \n",
       "1  1933  \n",
       "2  1990  \n",
       "3  2005  \n",
       "4  2002  "
      ]
     },
     "execution_count": 10,
     "metadata": {},
     "output_type": "execute_result"
    }
   ],
   "source": [
    "test_df.head(5)"
   ]
  },
  {
   "cell_type": "code",
   "execution_count": 11,
   "id": "e8610de2a91e7e34",
   "metadata": {
    "ExecuteTime": {
     "end_time": "2024-11-25T11:53:10.386867Z",
     "start_time": "2024-11-25T11:53:10.305331Z"
    }
   },
   "outputs": [
    {
     "data": {
      "text/plain": [
       "array(['Action', 'Animation', 'Comedy', 'Documentary', 'Drama', 'Horror',\n",
       "       'Romance', 'Thriller'], dtype=object)"
      ]
     },
     "execution_count": 11,
     "metadata": {},
     "output_type": "execute_result"
    }
   ],
   "source": [
    "# str -> list 변환 (\"['Romance', 'Action', ...]\" -> ['Romance', 'Action', ...])\n",
    "train_df['genres'] = train_df['genres'].apply(lambda x: eval(x))\n",
    "\n",
    "# multi label encoding\n",
    "mlb = MultiLabelBinarizer()\n",
    "train_label = mlb.fit_transform(train_df['genres'])\n",
    "\n",
    "# column 순서 확인\n",
    "mlb.classes_"
   ]
  },
  {
   "cell_type": "code",
   "execution_count": 12,
   "id": "3af2a909449ae4a1",
   "metadata": {
    "ExecuteTime": {
     "end_time": "2024-11-25T11:53:10.434402Z",
     "start_time": "2024-11-25T11:53:10.419377Z"
    }
   },
   "outputs": [
    {
     "data": {
      "text/html": [
       "<div>\n",
       "<style scoped>\n",
       "    .dataframe tbody tr th:only-of-type {\n",
       "        vertical-align: middle;\n",
       "    }\n",
       "\n",
       "    .dataframe tbody tr th {\n",
       "        vertical-align: top;\n",
       "    }\n",
       "\n",
       "    .dataframe thead th {\n",
       "        text-align: right;\n",
       "    }\n",
       "</style>\n",
       "<table border=\"1\" class=\"dataframe\">\n",
       "  <thead>\n",
       "    <tr style=\"text-align: right;\">\n",
       "      <th></th>\n",
       "      <th>id</th>\n",
       "      <th>path</th>\n",
       "      <th>w2v_path</th>\n",
       "      <th>title</th>\n",
       "      <th>year</th>\n",
       "      <th>genres</th>\n",
       "      <th>Action</th>\n",
       "      <th>Animation</th>\n",
       "      <th>Comedy</th>\n",
       "      <th>Documentary</th>\n",
       "      <th>Drama</th>\n",
       "      <th>Horror</th>\n",
       "      <th>Romance</th>\n",
       "      <th>Thriller</th>\n",
       "    </tr>\n",
       "  </thead>\n",
       "  <tbody>\n",
       "    <tr>\n",
       "      <th>0</th>\n",
       "      <td>13</td>\n",
       "      <td>/kaggle/input/2024-dl-final/train/13.jpg</td>\n",
       "      <td>/kaggle/input/2024-dl-final/train_w2v/13.npy</td>\n",
       "      <td>Forrest Gump</td>\n",
       "      <td>1994</td>\n",
       "      <td>[Comedy, Drama, Romance]</td>\n",
       "      <td>0</td>\n",
       "      <td>0</td>\n",
       "      <td>1</td>\n",
       "      <td>0</td>\n",
       "      <td>1</td>\n",
       "      <td>0</td>\n",
       "      <td>1</td>\n",
       "      <td>0</td>\n",
       "    </tr>\n",
       "    <tr>\n",
       "      <th>1</th>\n",
       "      <td>55</td>\n",
       "      <td>/kaggle/input/2024-dl-final/train/55.jpg</td>\n",
       "      <td>/kaggle/input/2024-dl-final/train_w2v/55.npy</td>\n",
       "      <td>Amores Perros</td>\n",
       "      <td>2000</td>\n",
       "      <td>[Drama, Thriller]</td>\n",
       "      <td>0</td>\n",
       "      <td>0</td>\n",
       "      <td>0</td>\n",
       "      <td>0</td>\n",
       "      <td>1</td>\n",
       "      <td>0</td>\n",
       "      <td>0</td>\n",
       "      <td>1</td>\n",
       "    </tr>\n",
       "    <tr>\n",
       "      <th>2</th>\n",
       "      <td>64</td>\n",
       "      <td>/kaggle/input/2024-dl-final/train/64.jpg</td>\n",
       "      <td>/kaggle/input/2024-dl-final/train_w2v/64.npy</td>\n",
       "      <td>Talk to Her</td>\n",
       "      <td>2002</td>\n",
       "      <td>[Drama, Romance]</td>\n",
       "      <td>0</td>\n",
       "      <td>0</td>\n",
       "      <td>0</td>\n",
       "      <td>0</td>\n",
       "      <td>1</td>\n",
       "      <td>0</td>\n",
       "      <td>1</td>\n",
       "      <td>0</td>\n",
       "    </tr>\n",
       "    <tr>\n",
       "      <th>3</th>\n",
       "      <td>80</td>\n",
       "      <td>/kaggle/input/2024-dl-final/train/80.jpg</td>\n",
       "      <td>/kaggle/input/2024-dl-final/train_w2v/80.npy</td>\n",
       "      <td>Before Sunset</td>\n",
       "      <td>2004</td>\n",
       "      <td>[Drama, Romance]</td>\n",
       "      <td>0</td>\n",
       "      <td>0</td>\n",
       "      <td>0</td>\n",
       "      <td>0</td>\n",
       "      <td>1</td>\n",
       "      <td>0</td>\n",
       "      <td>1</td>\n",
       "      <td>0</td>\n",
       "    </tr>\n",
       "    <tr>\n",
       "      <th>4</th>\n",
       "      <td>86</td>\n",
       "      <td>/kaggle/input/2024-dl-final/train/86.jpg</td>\n",
       "      <td>/kaggle/input/2024-dl-final/train_w2v/86.npy</td>\n",
       "      <td>The Elementary Particles</td>\n",
       "      <td>2006</td>\n",
       "      <td>[Drama, Romance]</td>\n",
       "      <td>0</td>\n",
       "      <td>0</td>\n",
       "      <td>0</td>\n",
       "      <td>0</td>\n",
       "      <td>1</td>\n",
       "      <td>0</td>\n",
       "      <td>1</td>\n",
       "      <td>0</td>\n",
       "    </tr>\n",
       "  </tbody>\n",
       "</table>\n",
       "</div>"
      ],
      "text/plain": [
       "   id                                      path  \\\n",
       "0  13  /kaggle/input/2024-dl-final/train/13.jpg   \n",
       "1  55  /kaggle/input/2024-dl-final/train/55.jpg   \n",
       "2  64  /kaggle/input/2024-dl-final/train/64.jpg   \n",
       "3  80  /kaggle/input/2024-dl-final/train/80.jpg   \n",
       "4  86  /kaggle/input/2024-dl-final/train/86.jpg   \n",
       "\n",
       "                                       w2v_path                     title  \\\n",
       "0  /kaggle/input/2024-dl-final/train_w2v/13.npy              Forrest Gump   \n",
       "1  /kaggle/input/2024-dl-final/train_w2v/55.npy             Amores Perros   \n",
       "2  /kaggle/input/2024-dl-final/train_w2v/64.npy               Talk to Her   \n",
       "3  /kaggle/input/2024-dl-final/train_w2v/80.npy             Before Sunset   \n",
       "4  /kaggle/input/2024-dl-final/train_w2v/86.npy  The Elementary Particles   \n",
       "\n",
       "   year                    genres  Action  Animation  Comedy  Documentary  \\\n",
       "0  1994  [Comedy, Drama, Romance]       0          0       1            0   \n",
       "1  2000         [Drama, Thriller]       0          0       0            0   \n",
       "2  2002          [Drama, Romance]       0          0       0            0   \n",
       "3  2004          [Drama, Romance]       0          0       0            0   \n",
       "4  2006          [Drama, Romance]       0          0       0            0   \n",
       "\n",
       "   Drama  Horror  Romance  Thriller  \n",
       "0      1       0        1         0  \n",
       "1      1       0        0         1  \n",
       "2      1       0        1         0  \n",
       "3      1       0        1         0  \n",
       "4      1       0        1         0  "
      ]
     },
     "execution_count": 12,
     "metadata": {},
     "output_type": "execute_result"
    }
   ],
   "source": [
    "# 기존 데이터와 결합\n",
    "mlb_train = pd.DataFrame(train_label, columns=mlb.classes_)\n",
    "\n",
    "train_df = pd.concat([train_df, mlb_train], axis=1)\n",
    "train_df.head()"
   ]
  },
  {
   "cell_type": "code",
   "execution_count": 13,
   "id": "68f4bdc0913e7cad",
   "metadata": {
    "ExecuteTime": {
     "end_time": "2024-11-25T11:53:10.496921Z",
     "start_time": "2024-11-25T11:53:10.481912Z"
    }
   },
   "outputs": [],
   "source": [
    "# 로컬 환경에서 학습하는 경우\n",
    "train_df['path'] = train_df['path'].apply(lambda x: train_dir + x.split('/')[-1])\n",
    "test_df['path'] = test_df['path'].apply(lambda x: test_dir + x.split('/')[-1])\n",
    "train_df['w2v_path'] = train_df['w2v_path'].apply(lambda x: train_w2v_dir + x.split('/')[-1])\n",
    "test_df['w2v_path'] = test_df['w2v_path'].apply(lambda x: test_w2v_dir + x.split('/')[-1])"
   ]
  },
  {
   "cell_type": "code",
   "execution_count": 14,
   "id": "8aae505e",
   "metadata": {},
   "outputs": [
    {
     "name": "stdout",
     "output_type": "stream",
     "text": [
      "   id                                         path  \\\n",
      "0  13  C:/sg0117/hallym/2024-dl-final/train/13.jpg   \n",
      "1  55  C:/sg0117/hallym/2024-dl-final/train/55.jpg   \n",
      "2  64  C:/sg0117/hallym/2024-dl-final/train/64.jpg   \n",
      "3  80  C:/sg0117/hallym/2024-dl-final/train/80.jpg   \n",
      "4  86  C:/sg0117/hallym/2024-dl-final/train/86.jpg   \n",
      "\n",
      "                                          w2v_path                     title  \\\n",
      "0  C:/sg0117/hallym/2024-dl-final/train_w2v/13.npy              Forrest Gump   \n",
      "1  C:/sg0117/hallym/2024-dl-final/train_w2v/55.npy             Amores Perros   \n",
      "2  C:/sg0117/hallym/2024-dl-final/train_w2v/64.npy               Talk to Her   \n",
      "3  C:/sg0117/hallym/2024-dl-final/train_w2v/80.npy             Before Sunset   \n",
      "4  C:/sg0117/hallym/2024-dl-final/train_w2v/86.npy  The Elementary Particles   \n",
      "\n",
      "   year                    genres  Action  Animation  Comedy  Documentary  \\\n",
      "0  1994  [Comedy, Drama, Romance]       0          0       1            0   \n",
      "1  2000         [Drama, Thriller]       0          0       0            0   \n",
      "2  2002          [Drama, Romance]       0          0       0            0   \n",
      "3  2004          [Drama, Romance]       0          0       0            0   \n",
      "4  2006          [Drama, Romance]       0          0       0            0   \n",
      "\n",
      "   Drama  Horror  Romance  Thriller  \n",
      "0      1       0        1         0  \n",
      "1      1       0        0         1  \n",
      "2      1       0        1         0  \n",
      "3      1       0        1         0  \n",
      "4      1       0        1         0  \n",
      "    id                                         path  \\\n",
      "0   32   C:/sg0117/hallym/2024-dl-final/test/32.jpg   \n",
      "1   91   C:/sg0117/hallym/2024-dl-final/test/91.jpg   \n",
      "2  114  C:/sg0117/hallym/2024-dl-final/test/114.jpg   \n",
      "3  142  C:/sg0117/hallym/2024-dl-final/test/142.jpg   \n",
      "4  156  C:/sg0117/hallym/2024-dl-final/test/156.jpg   \n",
      "\n",
      "                                          w2v_path  \\\n",
      "0   C:/sg0117/hallym/2024-dl-final/test_w2v/32.npy   \n",
      "1   C:/sg0117/hallym/2024-dl-final/test_w2v/91.npy   \n",
      "2  C:/sg0117/hallym/2024-dl-final/test_w2v/114.npy   \n",
      "3  C:/sg0117/hallym/2024-dl-final/test_w2v/142.npy   \n",
      "4  C:/sg0117/hallym/2024-dl-final/test_w2v/156.npy   \n",
      "\n",
      "                          title  year  \n",
      "0                Cannon Fodder   1995  \n",
      "1            Land Without Bread  1933  \n",
      "2                  Pretty Woman  1990  \n",
      "3            Brokeback Mountain  2005  \n",
      "4  Wilbur Wants to Kill Himself  2002  \n"
     ]
    }
   ],
   "source": [
    "print(train_df.head(5))\n",
    "print(test_df.head(5))"
   ]
  },
  {
   "cell_type": "code",
   "execution_count": 15,
   "id": "5fa17e382571a468",
   "metadata": {
    "ExecuteTime": {
     "end_time": "2024-11-25T11:53:10.966702Z",
     "start_time": "2024-11-25T11:53:10.547432Z"
    }
   },
   "outputs": [
    {
     "data": {
      "image/png": "[encoded data removed]",
      "text/plain": [
       "<Figure size 1400x400 with 1 Axes>"
      ]
     },
     "metadata": {},
     "output_type": "display_data"
    },
    {
     "data": {
      "image/png": "[encoded data removed]",
      "text/plain": [
       "<Figure size 1400x400 with 1 Axes>"
      ]
     },
     "metadata": {},
     "output_type": "display_data"
    },
    {
     "data": {
      "image/png": "[encoded data removed]",
      "text/plain": [
       "<Figure size 1400x400 with 1 Axes>"
      ]
     },
     "metadata": {},
     "output_type": "display_data"
    }
   ],
   "source": [
    "# multi-label을 하나의 class로 보는 경우의 히스토그램\n",
    "tr_hist = train_df['genres'].apply(lambda x: str(x)).sort_values()\n",
    "plt.figure(figsize=(14, 4))\n",
    "plt.bar(tr_hist.unique(), tr_hist.value_counts().sort_index())\n",
    "plt.xticks(rotation=-90)\n",
    "plt.title('Genres Histogram')\n",
    "plt.show()\n",
    "\n",
    "# single-label을 하나의 class로 보는 경우의 히스토그램\n",
    "mlb_hist = mlb_train.sum(axis=0)\n",
    "plt.figure(figsize=(14, 4))\n",
    "plt.bar(mlb.classes_, mlb_hist)\n",
    "plt.title('Genres Histogram')\n",
    "plt.show()\n",
    "\n",
    "\n",
    "# 연도별 영화 히스토그램\n",
    "plt.figure(figsize=(14, 4))\n",
    "plt.bar(train_df['year'].sort_values().unique(), train_df['year'].value_counts().sort_index())\n",
    "plt.title('Year Histogram')\n",
    "plt.show()"
   ]
  },
  {
   "cell_type": "markdown",
   "id": "f8c60ede360be4a8",
   "metadata": {},
   "source": [
    "## Dataset & Dataloader"
   ]
  },
  {
   "cell_type": "code",
   "execution_count": 16,
   "id": "edf2a313a50f84a1",
   "metadata": {
    "ExecuteTime": {
     "end_time": "2024-11-25T11:53:11.013220Z",
     "start_time": "2024-11-25T11:53:10.998215Z"
    }
   },
   "outputs": [],
   "source": [
    "class MovieDataset(Dataset):\n",
    "    def __init__(self, df, transform=None, mode='train'):\n",
    "        self.df = df\n",
    "        self.transform = transform\n",
    "        self.mode = mode\n",
    "\n",
    "    def __len__(self):\n",
    "        return len(self.df)\n",
    "\n",
    "    def __getitem__(self, idx):\n",
    "        # 이미지 로드 BGR을 RGB 순서로 바꿈. opencv는 BGR 형식을 사용하기 때문에 pytorch를 위해 RGB로 바꿔줌.\n",
    "        image = cv2.cvtColor(cv2.imread(self.df.iloc[idx, 1]), cv2.COLOR_BGR2RGB)\n",
    "        # word를 벡터로 임베딩함\n",
    "        w2v = torch.Tensor(np.load(self.df.iloc[idx, 2]))\n",
    "\n",
    "        if self.transform:\n",
    "            # 이미ㅣㅈ transform 적용\n",
    "            augmented = self.transform(image=image)\n",
    "            image = augmented['image']\n",
    "        else:\n",
    "            # 이미지 transform 적용 안할경우 그냥 텐서변환 (test 셋에서 사용)\n",
    "            image = A.ToTensorV2()(image=image)\n",
    "\n",
    "        # train 셋인 경우 레이블도 반환함\n",
    "        if self.mode == 'train':\n",
    "            # 라벨 텐서변환\n",
    "            label = torch.Tensor(self.df.iloc[idx, 6:].to_numpy(dtype=np.float32))\n",
    "            return image, w2v, label\n",
    "\n",
    "        return image, w2v"
   ]
  },
  {
   "cell_type": "code",
   "execution_count": 17,
   "id": "94e3ed97d9009c4a",
   "metadata": {
    "ExecuteTime": {
     "end_time": "2024-11-25T11:53:11.059802Z",
     "start_time": "2024-11-25T11:53:11.045551Z"
    }
   },
   "outputs": [],
   "source": [
    "# train_transform = A.Compose([\n",
    "#     # https://albumentations.ai/docs/api_reference/full_reference/\n",
    "#     A.Resize(128, 128),\n",
    "#     A.HorizontalFlip(p=0.5),\n",
    "#     A.RandomBrightnessContrast(p=0.5), # 랜덤 밝기 대비\n",
    "#     A.RandomResizedCrop(height=128, width=128, scale=(0.8, 1.0), ratio=(0.9, 1.1), p=0.5), # 랜덤크롭\n",
    "#     A.ShiftScaleRotate(shift_limit=0.05, scale_limit=0.05, rotate_limit=30, p=0.5),  # 이동, 확대/축소, 회전\n",
    "#     A.CoarseDropout(max_holes=4, max_height=16, max_width=16, min_height=8, min_width=8, fill_value=0, p=0.5), # 랜덤으로 빵꾸 뚫기\n",
    "#     A.Normalize(),\n",
    "#     ToTensorV2()\n",
    "# ])\n",
    "\n",
    "# test_transform = A.Compose([\n",
    "#     A.Resize(128, 128),\n",
    "\n",
    "#     A.Normalize(),\n",
    "#     ToTensorV2()\n",
    "# ])"
   ]
  },
  {
   "cell_type": "markdown",
   "id": "78e57179",
   "metadata": {},
   "source": [
    "# 241214 오후 10시 16분 데이터 증강 기법 더 추가"
   ]
  },
  {
   "cell_type": "code",
   "execution_count": 18,
   "id": "b6c024c0",
   "metadata": {},
   "outputs": [],
   "source": [
    "train_transform = A.Compose([\n",
    "    # https://albumentations.ai/docs/api_reference/full_reference/\n",
    "    A.Resize(128, 128),             # 이미지 크기 조정  \n",
    "    A.HorizontalFlip(p=0.5),        # 좌우 반전\n",
    "    A.RandomBrightnessContrast(p=0.7), # 랜덤 밝기 대비\n",
    "    A.RandomResizedCrop(height=128, width=128, scale=(0.8, 1.0), ratio=(0.9, 1.1), p=0.5), # 랜덤크롭 \n",
    "    A.ShiftScaleRotate(shift_limit=0.05, scale_limit=0.05, rotate_limit=30, p=0.7),  # 이동, 확대/축소, 회전\n",
    "    A.CoarseDropout(max_holes=4, max_height=16, max_width=16, min_height=8, min_width=8, fill_value=0, p=0.8), # 랜덤으로 빵꾸 뚫기\n",
    "    A.Normalize(), \n",
    "    ToTensorV2()\n",
    "])\n",
    "\n",
    "test_transform = A.Compose([\n",
    "    A.Resize(128, 128),\n",
    "\n",
    "    A.Normalize(),\n",
    "    ToTensorV2()\n",
    "])"
   ]
  },
  {
   "cell_type": "code",
   "execution_count": 19,
   "id": "947acf3f",
   "metadata": {},
   "outputs": [
    {
     "name": "stdout",
     "output_type": "stream",
     "text": [
      "12\n"
     ]
    }
   ],
   "source": [
    "import os\n",
    "\n",
    "num_workers = os.cpu_count()\n",
    "print(num_workers)\n"
   ]
  },
  {
   "cell_type": "markdown",
   "id": "1da80f49",
   "metadata": {},
   "source": [
    "train loop에서 k_fold를 적용하여 train/validation 데이터 로더를 새로 작성하였기 때문에 해당 부분은 주석처리 해놓았습니다."
   ]
  },
  {
   "cell_type": "code",
   "execution_count": 20,
   "id": "be3a7062af01b1bc",
   "metadata": {
    "ExecuteTime": {
     "end_time": "2024-11-25T11:53:11.091314Z",
     "start_time": "2024-11-25T11:53:11.069805Z"
    }
   },
   "outputs": [
    {
     "data": {
      "text/plain": [
       "5034"
      ]
     },
     "execution_count": 20,
     "metadata": {},
     "output_type": "execute_result"
    }
   ],
   "source": [
    "batch_size = 32\n",
    "# batch_size = 16\n",
    "# batch_size = 10\n",
    "num_workers = 0  # 로컬에서 설정하면 학습 루프 안돌아감 ㅜㅜ\n",
    "\n",
    "# train/validation 분리\n",
    "# train_df, val_df = train_test_split(train_df, test_size=0.1, shuffle=True, random_state=SEED,\n",
    "#                                     stratify=train_df['genres'])\n",
    "\n",
    "# train_dataset = MovieDataset(df=train_df, transform=train_transform)\n",
    "# val_dataset = MovieDataset(df=val_df, transform=test_transform)\n",
    "test_dataset = MovieDataset(df=test_df, transform=test_transform, mode='test')\n",
    "\n",
    "# train_loader = DataLoader(train_dataset, batch_size=batch_size, shuffle=True, pin_memory=True, num_workers=num_workers)\n",
    "# val_loader = DataLoader(val_dataset, batch_size=batch_size, shuffle=False, pin_memory=True, num_workers=num_workers)\n",
    "test_loader = DataLoader(test_dataset, batch_size=batch_size, shuffle=False, pin_memory=True, num_workers=num_workers)\n",
    "\n",
    "# train_dataset.__len__(), val_dataset.__len__(), \n",
    "test_dataset.__len__()"
   ]
  },
  {
   "cell_type": "code",
   "execution_count": 21,
   "id": "f12b71bd9a6e8a72",
   "metadata": {
    "ExecuteTime": {
     "end_time": "2024-11-25T11:53:11.483486Z",
     "start_time": "2024-11-25T11:53:11.114351Z"
    }
   },
   "outputs": [
    {
     "ename": "NameError",
     "evalue": "name 'train_dataset' is not defined",
     "output_type": "error",
     "traceback": [
      "\u001b[1;31m---------------------------------------------------------------------------\u001b[0m",
      "\u001b[1;31mNameError\u001b[0m                                 Traceback (most recent call last)",
      "Cell \u001b[1;32mIn[21], line 3\u001b[0m\n\u001b[0;32m      1\u001b[0m imgs \u001b[38;5;241m=\u001b[39m []\n\u001b[0;32m      2\u001b[0m \u001b[38;5;28;01mfor\u001b[39;00m i \u001b[38;5;129;01min\u001b[39;00m \u001b[38;5;28mrange\u001b[39m(\u001b[38;5;241m10\u001b[39m):\n\u001b[1;32m----> 3\u001b[0m     img, _, _ \u001b[38;5;241m=\u001b[39m \u001b[43mtrain_dataset\u001b[49m\u001b[38;5;241m.\u001b[39m\u001b[38;5;21m__getitem__\u001b[39m(i)  \u001b[38;5;66;03m# transform이 적용된 이미지 반환\u001b[39;00m\n\u001b[0;32m      4\u001b[0m     img \u001b[38;5;241m=\u001b[39m img\u001b[38;5;241m.\u001b[39mpermute((\u001b[38;5;241m1\u001b[39m, \u001b[38;5;241m2\u001b[39m, \u001b[38;5;241m0\u001b[39m))\u001b[38;5;241m.\u001b[39mfloat()\n\u001b[0;32m      5\u001b[0m     imgs\u001b[38;5;241m.\u001b[39mappend(img\u001b[38;5;241m.\u001b[39mnumpy())  \u001b[38;5;66;03m# (3, 128, 128) 형태의 image를 (128, 128, 3) 형태로 바꿔서 저장\u001b[39;00m\n",
      "\u001b[1;31mNameError\u001b[0m: name 'train_dataset' is not defined"
     ]
    }
   ],
   "source": [
    "imgs = []\n",
    "for i in range(10):\n",
    "    img, _, _ = train_dataset.__getitem__(i)  # transform이 적용된 이미지 반환\n",
    "    img = img.permute((1, 2, 0)).float()\n",
    "    imgs.append(img.numpy())  # (3, 128, 128) 형태의 image를 (128, 128, 3) 형태로 바꿔서 저장\n",
    "\n",
    "fig = plt.figure(figsize=(12, 6))\n",
    "for i in range(10):\n",
    "    plt.subplot(2, 5, i + 1)\n",
    "    plt.imshow(imgs[i])\n",
    "\n",
    "plt.show()"
   ]
  },
  {
   "cell_type": "markdown",
   "id": "4aae1e5d3dba88f4",
   "metadata": {},
   "source": [
    "## Model"
   ]
  },
  {
   "cell_type": "code",
   "execution_count": null,
   "id": "37849798",
   "metadata": {},
   "outputs": [],
   "source": [
    "class MovieClassifier(nn.Module):\n",
    "    def __init__(self, num_classes=8):\n",
    "        super(MovieClassifier, self).__init__()\n",
    "        self.num_classes = num_classes\n",
    "\n",
    "        # Convolutional Layers\n",
    "        self.conv1 = nn.Conv2d(3, 32, kernel_size=3, stride=1, padding=1)  # 3x224x224 -> 32x224x224\n",
    "        self.pool1 = nn.MaxPool2d(kernel_size=2, stride=2)  # 32x224x224 -> 32x112x112\n",
    "\n",
    "        self.conv2 = nn.Conv2d(32, 64, kernel_size=3, stride=1, padding=1)  # 32x112x112 -> 64x112x112\n",
    "        self.pool2 = nn.MaxPool2d(kernel_size=2, stride=2)  # 64x112x112 -> 64x56x56\n",
    "\n",
    "        self.conv3 = nn.Conv2d(64, 64, kernel_size=3, stride=1, padding=1)  # 64x56x56 -> 64x56x56\n",
    "        self.pool3 = nn.MaxPool2d(kernel_size=2, stride=2)  # 64x56x56 -> 64x28x28\n",
    "\n",
    "        self.conv4 = nn.Conv2d(64, 128, kernel_size=3, stride=1, padding=1)  # 64x28x28 -> 128x28x28\n",
    "        self.pool4 = nn.MaxPool2d(kernel_size=2, stride=2)  # 128x28x28 -> 128x14x14\n",
    "\n",
    "        self.conv5 = nn.Conv2d(128, 128, kernel_size=3, stride=1, padding=1)  # 128x14x14 -> 128x14x14\n",
    "        self.pool5 = nn.MaxPool2d(kernel_size=2, stride=2)  # 128x14x14 -> 128x7x7\n",
    "\n",
    "        # 글로벌 Average Pooling\n",
    "        self.gap = nn.AdaptiveAvgPool2d(1)  # 128x7x7 -> 128x1x1\n",
    "\n",
    "        # Word2Vec Fully Connected Layer\n",
    "        self.word2vec_fc = nn.Sequential(\n",
    "            nn.Linear(15 * 300, 128),  # 15x300 Word2Vec -> 128\n",
    "            nn.BatchNorm1d(128),\n",
    "            nn.ReLU(inplace=True),\n",
    "            nn.Dropout(p=0.5)\n",
    "        )\n",
    "\n",
    "        # Fully Connected Layers\n",
    "        self.fc = nn.Sequential(\n",
    "            nn.Linear(128 + 128, 128),  # Image Features (128) + Word2Vec Features (128)\n",
    "            nn.BatchNorm1d(128),\n",
    "            nn.ReLU(inplace=True),\n",
    "            nn.Dropout(p=0.5),\n",
    "            nn.Linear(128, num_classes)  # Output: num_classes\n",
    "        )\n",
    "\n",
    "    def forward(self, image, w2v):\n",
    "        # CNN Path for Image Features\n",
    "        x1 = F.relu(self.conv1(image))\n",
    "        x1 = self.pool1(x1)\n",
    "        x1 = F.relu(self.conv2(x1))\n",
    "        x1 = self.pool2(x1)\n",
    "        x1 = F.relu(self.conv3(x1))\n",
    "        x1 = self.pool3(x1)\n",
    "        x1 = F.relu(self.conv4(x1))\n",
    "        x1 = self.pool4(x1)\n",
    "        x1 = F.relu(self.conv5(x1))\n",
    "        x1 = self.pool5(x1)\n",
    "        x1 = self.gap(x1)  # Global Average Pooling\n",
    "        x1 = torch.flatten(x1, 1)\n",
    "\n",
    "        # Word2Vec Path\n",
    "        x2 = self.word2vec_fc(w2v.view(w2v.size(0), -1))\n",
    "\n",
    "        # Concatenate Image and Word2Vec Features\n",
    "        x = torch.cat((x1, x2), dim=1)\n",
    "\n",
    "        # Fully Connected Layers\n",
    "        x = self.fc(x)\n",
    "        return x\n"
   ]
  },
  {
   "cell_type": "code",
   "execution_count": 50,
   "id": "5d5d081dabf5b345",
   "metadata": {
    "ExecuteTime": {
     "end_time": "2024-11-25T11:53:11.656505Z",
     "start_time": "2024-11-25T11:53:11.531376Z"
    }
   },
   "outputs": [],
   "source": [
    "num_classes = mlb.classes_.shape[0]\n",
    "\n",
    "# 모델 초기화\n",
    "model = MovieClassifier(num_classes=num_classes).to(device)"
   ]
  },
  {
   "cell_type": "markdown",
   "id": "fb219317b63ad829",
   "metadata": {},
   "source": [
    "## Loss & Optimizer"
   ]
  },
  {
   "cell_type": "code",
   "execution_count": 51,
   "id": "373428b72d1b57e",
   "metadata": {
    "ExecuteTime": {
     "end_time": "2024-11-25T11:53:11.687413Z",
     "start_time": "2024-11-25T11:53:11.671907Z"
    }
   },
   "outputs": [],
   "source": [
    "# criterion = nn.BCELoss()\n",
    "#https://pytorch.org/docs/stable/generated/torch.nn.BCEWithLogitsLoss.html\n",
    "\n",
    "criterion = nn.BCEWithLogitsLoss()\n",
    "# optimizer = optim.Adam(model.parameters(), lr=0.0001)\n",
    "optimizer = optim.Adam(model.parameters(), lr=0.0001, weight_decay=1e-5)"
   ]
  },
  {
   "cell_type": "markdown",
   "id": "84b7895160484a4e",
   "metadata": {},
   "source": [
    "## Train & Validation"
   ]
  },
  {
   "cell_type": "code",
   "execution_count": 52,
   "id": "81ad5472773f916a",
   "metadata": {
    "ExecuteTime": {
     "end_time": "2024-11-25T11:53:11.717925Z",
     "start_time": "2024-11-25T11:53:11.703419Z"
    }
   },
   "outputs": [],
   "source": [
    "# TODO: train code 241203 w2v도 for문 돌려야됨\n",
    "\n",
    "def train(model, train_loader, criterion, optimizer, device):\n",
    "    # print(\"데이터 로딩 시작\")   # 디버깅용 출력\n",
    "    model.train()   # 모델을 학습모드로 설정\n",
    "    total_loss = 0  # 총 loss 저장\n",
    "    all_pred = []  # 모델 예측값 저장\n",
    "    all_label = [] # 실제 라벨 저장\n",
    "\n",
    "    for images, w2v, labels in tqdm(train_loader, desc=\"Training\"):\n",
    "        # print(\"배치 처리 중\")\n",
    "        # 데이터 쿠다로 보냄\n",
    "        images, w2v, labels = images.to(device), w2v.to(device), labels.to(device)\n",
    "\n",
    "        # Forward pass\n",
    "        outputs = model(images, w2v)  # 모델에 이미지와 word2Vec 입력\n",
    "        loss = criterion(outputs, labels)  # 예측값과 실제라벨을 비교하여 손실값 계산\n",
    "        # print(\"손실 계산 완료\")\n",
    "        \n",
    "        optimizer.zero_grad()   # 기울기 초기화\n",
    "        loss.backward() # loss 값을 기준으로 gradient 계산\n",
    "        optimizer.step() # 가중치 업데이트\n",
    "\n",
    "        total_loss += loss.item() \n",
    "        all_pred.append(torch.sigmoid(outputs).detach().cpu())  # 예측값을 sigmoid로 적용해 확률값으로 변환. cpu로 보내기\n",
    "        all_label.append(labels.detach().cpu())  # 실제라벨을 cpu로 보내기\n",
    "\n",
    "    # 평균 손실 계산\n",
    "    avg_loss = total_loss / len(train_loader)\n",
    "    all_pred = torch.cat(all_pred)\n",
    "    all_label = torch.cat(all_label)\n",
    "    return avg_loss, all_pred, all_label"
   ]
  },
  {
   "cell_type": "code",
   "execution_count": 53,
   "id": "3d3834439e8ae714",
   "metadata": {
    "ExecuteTime": {
     "end_time": "2024-11-25T11:53:11.748970Z",
     "start_time": "2024-11-25T11:53:11.733929Z"
    }
   },
   "outputs": [],
   "source": [
    "# TODO: validation code\n",
    "def validate(model, val_loader, criterion, device):\n",
    "    model.eval()  # 모델을 평가 모드로 설정 (dropout, batchNorm 끔)\n",
    "    total_loss = 0\n",
    "    all_pred = []\n",
    "    all_label = []\n",
    "\n",
    "    with torch.no_grad():   # 평가 모드에서 기울기 계산 끔\n",
    "        for images, w2v, labels in tqdm(val_loader, desc=\"Validation\"):\n",
    "            images, w2v, labels = images.to(device), w2v.to(device), labels.to(device)\n",
    "\n",
    "            # Forward pass\n",
    "            outputs = model(images, w2v)\n",
    "            loss = criterion(outputs, labels)\n",
    "\n",
    "            total_loss += loss.item()\n",
    "            all_pred.append(torch.sigmoid(outputs).detach().cpu())  # Sigmoid로 확률 값 계산\n",
    "            all_label.append(labels.detach().cpu())\n",
    "\n",
    "    # 평균 손실 계산\n",
    "    avg_loss = total_loss / len(val_loader)\n",
    "    all_pred = torch.cat(all_pred)\n",
    "    all_label = torch.cat(all_label)\n",
    "    return avg_loss, all_pred, all_label"
   ]
  },
  {
   "cell_type": "markdown",
   "id": "49acd0d1",
   "metadata": {},
   "source": [
    "## Loss 분석"
   ]
  },
  {
   "cell_type": "code",
   "execution_count": 30,
   "id": "9ae32ba9",
   "metadata": {},
   "outputs": [
    {
     "name": "stdout",
     "output_type": "stream",
     "text": [
      "\n",
      "Fold 1/8 시작...\n",
      "13219 1882\n",
      "Epoch 1/10 - Fold 1\n"
     ]
    },
    {
     "name": "stderr",
     "output_type": "stream",
     "text": [
      "Training: 100%|██████████| 265/265 [00:25<00:00, 10.24it/s]\n"
     ]
    },
    {
     "name": "stdout",
     "output_type": "stream",
     "text": [
      "Train Loss: 0.6840, Train Accuracy: 0.3815\n"
     ]
    },
    {
     "name": "stderr",
     "output_type": "stream",
     "text": [
      "Validation: 100%|██████████| 38/38 [00:02<00:00, 13.94it/s]\n"
     ]
    },
    {
     "name": "stdout",
     "output_type": "stream",
     "text": [
      "Validation Loss: 0.6554, Validation Accuracy: 0.2912\n",
      "##########  Best Loss Model saved with loss: 0.6554  ##########\n",
      "##########  Best Loss Model saved checkpoin: 0.6554  ##########\n",
      "##########  Best Accuracy Model saved with accuracy: 0.2912  ##########\n",
      "Epoch 2/10 - Fold 1\n"
     ]
    },
    {
     "name": "stderr",
     "output_type": "stream",
     "text": [
      "Training: 100%|██████████| 265/265 [00:24<00:00, 10.76it/s]\n"
     ]
    },
    {
     "name": "stdout",
     "output_type": "stream",
     "text": [
      "Train Loss: 0.6418, Train Accuracy: 0.4527\n"
     ]
    },
    {
     "name": "stderr",
     "output_type": "stream",
     "text": [
      "Validation: 100%|██████████| 38/38 [00:02<00:00, 13.58it/s]\n"
     ]
    },
    {
     "name": "stdout",
     "output_type": "stream",
     "text": [
      "Validation Loss: 0.6148, Validation Accuracy: 0.4337\n",
      "##########  Best Loss Model saved with loss: 0.6148  ##########\n",
      "##########  Best Loss Model saved checkpoin: 0.6148  ##########\n",
      "##########  Best Accuracy Model saved with accuracy: 0.4337  ##########\n",
      "Epoch 3/10 - Fold 1\n"
     ]
    },
    {
     "name": "stderr",
     "output_type": "stream",
     "text": [
      "Training: 100%|██████████| 265/265 [00:25<00:00, 10.53it/s]\n"
     ]
    },
    {
     "name": "stdout",
     "output_type": "stream",
     "text": [
      "Train Loss: 0.6090, Train Accuracy: 0.5182\n"
     ]
    },
    {
     "name": "stderr",
     "output_type": "stream",
     "text": [
      "Validation: 100%|██████████| 38/38 [00:02<00:00, 13.59it/s]\n"
     ]
    },
    {
     "name": "stdout",
     "output_type": "stream",
     "text": [
      "Validation Loss: 0.5868, Validation Accuracy: 0.5156\n",
      "##########  Best Loss Model saved with loss: 0.5868  ##########\n",
      "##########  Best Loss Model saved checkpoin: 0.5868  ##########\n",
      "##########  Best Accuracy Model saved with accuracy: 0.5156  ##########\n",
      "Epoch 4/10 - Fold 1\n"
     ]
    },
    {
     "name": "stderr",
     "output_type": "stream",
     "text": [
      "Training: 100%|██████████| 265/265 [00:24<00:00, 10.72it/s]\n"
     ]
    },
    {
     "name": "stdout",
     "output_type": "stream",
     "text": [
      "Train Loss: 0.5830, Train Accuracy: 0.5659\n"
     ]
    },
    {
     "name": "stderr",
     "output_type": "stream",
     "text": [
      "Validation: 100%|██████████| 38/38 [00:02<00:00, 13.03it/s]\n"
     ]
    },
    {
     "name": "stdout",
     "output_type": "stream",
     "text": [
      "Validation Loss: 0.5615, Validation Accuracy: 0.5807\n",
      "##########  Best Loss Model saved with loss: 0.5615  ##########\n",
      "##########  Best Loss Model saved checkpoin: 0.5615  ##########\n",
      "##########  Best Accuracy Model saved with accuracy: 0.5807  ##########\n",
      "Epoch 5/10 - Fold 1\n"
     ]
    },
    {
     "name": "stderr",
     "output_type": "stream",
     "text": [
      "Training: 100%|██████████| 265/265 [00:24<00:00, 10.80it/s]\n"
     ]
    },
    {
     "name": "stdout",
     "output_type": "stream",
     "text": [
      "Train Loss: 0.5594, Train Accuracy: 0.6086\n"
     ]
    },
    {
     "name": "stderr",
     "output_type": "stream",
     "text": [
      "Validation: 100%|██████████| 38/38 [00:02<00:00, 14.02it/s]\n"
     ]
    },
    {
     "name": "stdout",
     "output_type": "stream",
     "text": [
      "Validation Loss: 0.5383, Validation Accuracy: 0.6394\n",
      "##########  Best Loss Model saved with loss: 0.5383  ##########\n",
      "##########  Best Loss Model saved checkpoin: 0.5383  ##########\n",
      "##########  Best Accuracy Model saved with accuracy: 0.6394  ##########\n",
      "Epoch 6/10 - Fold 1\n"
     ]
    },
    {
     "name": "stderr",
     "output_type": "stream",
     "text": [
      "Training: 100%|██████████| 265/265 [00:24<00:00, 10.68it/s]\n"
     ]
    },
    {
     "name": "stdout",
     "output_type": "stream",
     "text": [
      "Train Loss: 0.5410, Train Accuracy: 0.6445\n"
     ]
    },
    {
     "name": "stderr",
     "output_type": "stream",
     "text": [
      "Validation: 100%|██████████| 38/38 [00:02<00:00, 14.18it/s]\n"
     ]
    },
    {
     "name": "stdout",
     "output_type": "stream",
     "text": [
      "Validation Loss: 0.5203, Validation Accuracy: 0.6846\n",
      "##########  Best Loss Model saved with loss: 0.5203  ##########\n",
      "##########  Best Loss Model saved checkpoin: 0.5203  ##########\n",
      "##########  Best Accuracy Model saved with accuracy: 0.6846  ##########\n",
      "Epoch 7/10 - Fold 1\n"
     ]
    },
    {
     "name": "stderr",
     "output_type": "stream",
     "text": [
      "Training: 100%|██████████| 265/265 [00:24<00:00, 10.73it/s]\n"
     ]
    },
    {
     "name": "stdout",
     "output_type": "stream",
     "text": [
      "Train Loss: 0.5234, Train Accuracy: 0.6780\n"
     ]
    },
    {
     "name": "stderr",
     "output_type": "stream",
     "text": [
      "Validation: 100%|██████████| 38/38 [00:02<00:00, 13.68it/s]\n"
     ]
    },
    {
     "name": "stdout",
     "output_type": "stream",
     "text": [
      "Validation Loss: 0.5049, Validation Accuracy: 0.7181\n",
      "##########  Best Loss Model saved with loss: 0.5049  ##########\n",
      "##########  Best Loss Model saved checkpoin: 0.5049  ##########\n",
      "##########  Best Accuracy Model saved with accuracy: 0.7181  ##########\n",
      "Epoch 8/10 - Fold 1\n"
     ]
    },
    {
     "name": "stderr",
     "output_type": "stream",
     "text": [
      "Training: 100%|██████████| 265/265 [00:24<00:00, 10.68it/s]\n"
     ]
    },
    {
     "name": "stdout",
     "output_type": "stream",
     "text": [
      "Train Loss: 0.5087, Train Accuracy: 0.7064\n"
     ]
    },
    {
     "name": "stderr",
     "output_type": "stream",
     "text": [
      "Validation: 100%|██████████| 38/38 [00:02<00:00, 14.36it/s]\n"
     ]
    },
    {
     "name": "stdout",
     "output_type": "stream",
     "text": [
      "Validation Loss: 0.4913, Validation Accuracy: 0.7448\n",
      "##########  Best Loss Model saved with loss: 0.4913  ##########\n",
      "##########  Best Loss Model saved checkpoin: 0.4913  ##########\n",
      "##########  Best Accuracy Model saved with accuracy: 0.7448  ##########\n",
      "Epoch 9/10 - Fold 1\n"
     ]
    },
    {
     "name": "stderr",
     "output_type": "stream",
     "text": [
      "Training: 100%|██████████| 265/265 [00:24<00:00, 10.88it/s]\n"
     ]
    },
    {
     "name": "stdout",
     "output_type": "stream",
     "text": [
      "Train Loss: 0.4952, Train Accuracy: 0.7275\n"
     ]
    },
    {
     "name": "stderr",
     "output_type": "stream",
     "text": [
      "Validation: 100%|██████████| 38/38 [00:02<00:00, 13.82it/s]\n"
     ]
    },
    {
     "name": "stdout",
     "output_type": "stream",
     "text": [
      "Validation Loss: 0.4819, Validation Accuracy: 0.7575\n",
      "##########  Best Loss Model saved with loss: 0.4819  ##########\n",
      "##########  Best Loss Model saved checkpoin: 0.4819  ##########\n",
      "##########  Best Accuracy Model saved with accuracy: 0.7575  ##########\n",
      "Epoch 10/10 - Fold 1\n"
     ]
    },
    {
     "name": "stderr",
     "output_type": "stream",
     "text": [
      "Training: 100%|██████████| 265/265 [00:24<00:00, 10.91it/s]\n"
     ]
    },
    {
     "name": "stdout",
     "output_type": "stream",
     "text": [
      "Train Loss: 0.4841, Train Accuracy: 0.7449\n"
     ]
    },
    {
     "name": "stderr",
     "output_type": "stream",
     "text": [
      "Validation: 100%|██████████| 38/38 [00:02<00:00, 13.89it/s]\n"
     ]
    },
    {
     "name": "stdout",
     "output_type": "stream",
     "text": [
      "Validation Loss: 0.4712, Validation Accuracy: 0.7694\n",
      "##########  Best Loss Model saved with loss: 0.4712  ##########\n",
      "##########  Best Loss Model saved checkpoin: 0.4712  ##########\n",
      "##########  Best Accuracy Model saved with accuracy: 0.7694  ##########\n",
      "\n",
      "Fold 2/8 시작...\n",
      "13190 1911\n",
      "Epoch 1/10 - Fold 2\n"
     ]
    },
    {
     "name": "stderr",
     "output_type": "stream",
     "text": [
      "Training: 100%|██████████| 264/264 [00:25<00:00, 10.51it/s]\n"
     ]
    },
    {
     "name": "stdout",
     "output_type": "stream",
     "text": [
      "Train Loss: 0.4756, Train Accuracy: 0.7571\n"
     ]
    },
    {
     "name": "stderr",
     "output_type": "stream",
     "text": [
      "Validation: 100%|██████████| 39/39 [00:02<00:00, 14.02it/s]\n"
     ]
    },
    {
     "name": "stdout",
     "output_type": "stream",
     "text": [
      "Validation Loss: 0.4619, Validation Accuracy: 0.7823\n",
      "##########  Best Loss Model saved with loss: 0.4619  ##########\n",
      "##########  Best Loss Model saved checkpoin: 0.4619  ##########\n",
      "##########  Best Accuracy Model saved with accuracy: 0.7823  ##########\n",
      "Epoch 2/10 - Fold 2\n"
     ]
    },
    {
     "name": "stderr",
     "output_type": "stream",
     "text": [
      "Training: 100%|██████████| 264/264 [00:24<00:00, 10.71it/s]\n"
     ]
    },
    {
     "name": "stdout",
     "output_type": "stream",
     "text": [
      "Train Loss: 0.4663, Train Accuracy: 0.7682\n"
     ]
    },
    {
     "name": "stderr",
     "output_type": "stream",
     "text": [
      "Validation: 100%|██████████| 39/39 [00:02<00:00, 13.98it/s]\n"
     ]
    },
    {
     "name": "stdout",
     "output_type": "stream",
     "text": [
      "Validation Loss: 0.4536, Validation Accuracy: 0.7889\n",
      "##########  Best Loss Model saved with loss: 0.4536  ##########\n",
      "##########  Best Loss Model saved checkpoin: 0.4536  ##########\n",
      "##########  Best Accuracy Model saved with accuracy: 0.7889  ##########\n",
      "Epoch 3/10 - Fold 2\n"
     ]
    },
    {
     "name": "stderr",
     "output_type": "stream",
     "text": [
      "Training: 100%|██████████| 264/264 [00:24<00:00, 10.75it/s]\n"
     ]
    },
    {
     "name": "stdout",
     "output_type": "stream",
     "text": [
      "Train Loss: 0.4594, Train Accuracy: 0.7750\n"
     ]
    },
    {
     "name": "stderr",
     "output_type": "stream",
     "text": [
      "Validation: 100%|██████████| 39/39 [00:02<00:00, 13.73it/s]\n"
     ]
    },
    {
     "name": "stdout",
     "output_type": "stream",
     "text": [
      "Validation Loss: 0.4471, Validation Accuracy: 0.7928\n",
      "##########  Best Loss Model saved with loss: 0.4471  ##########\n",
      "##########  Best Loss Model saved checkpoin: 0.4471  ##########\n",
      "##########  Best Accuracy Model saved with accuracy: 0.7928  ##########\n",
      "Epoch 4/10 - Fold 2\n"
     ]
    },
    {
     "name": "stderr",
     "output_type": "stream",
     "text": [
      "Training: 100%|██████████| 264/264 [00:24<00:00, 10.61it/s]\n"
     ]
    },
    {
     "name": "stdout",
     "output_type": "stream",
     "text": [
      "Train Loss: 0.4538, Train Accuracy: 0.7807\n"
     ]
    },
    {
     "name": "stderr",
     "output_type": "stream",
     "text": [
      "Validation: 100%|██████████| 39/39 [00:02<00:00, 13.21it/s]\n"
     ]
    },
    {
     "name": "stdout",
     "output_type": "stream",
     "text": [
      "Validation Loss: 0.4426, Validation Accuracy: 0.7970\n",
      "##########  Best Loss Model saved with loss: 0.4426  ##########\n",
      "##########  Best Loss Model saved checkpoin: 0.4426  ##########\n",
      "##########  Best Accuracy Model saved with accuracy: 0.7970  ##########\n",
      "Epoch 5/10 - Fold 2\n"
     ]
    },
    {
     "name": "stderr",
     "output_type": "stream",
     "text": [
      "Training: 100%|██████████| 264/264 [00:24<00:00, 10.68it/s]\n"
     ]
    },
    {
     "name": "stdout",
     "output_type": "stream",
     "text": [
      "Train Loss: 0.4464, Train Accuracy: 0.7872\n"
     ]
    },
    {
     "name": "stderr",
     "output_type": "stream",
     "text": [
      "Validation: 100%|██████████| 39/39 [00:02<00:00, 13.45it/s]\n"
     ]
    },
    {
     "name": "stdout",
     "output_type": "stream",
     "text": [
      "Validation Loss: 0.4356, Validation Accuracy: 0.8009\n",
      "##########  Best Loss Model saved with loss: 0.4356  ##########\n",
      "##########  Best Loss Model saved checkpoin: 0.4356  ##########\n",
      "##########  Best Accuracy Model saved with accuracy: 0.8009  ##########\n",
      "Epoch 6/10 - Fold 2\n"
     ]
    },
    {
     "name": "stderr",
     "output_type": "stream",
     "text": [
      "Training: 100%|██████████| 264/264 [00:24<00:00, 10.77it/s]\n"
     ]
    },
    {
     "name": "stdout",
     "output_type": "stream",
     "text": [
      "Train Loss: 0.4416, Train Accuracy: 0.7899\n"
     ]
    },
    {
     "name": "stderr",
     "output_type": "stream",
     "text": [
      "Validation: 100%|██████████| 39/39 [00:02<00:00, 14.38it/s]\n"
     ]
    },
    {
     "name": "stdout",
     "output_type": "stream",
     "text": [
      "Validation Loss: 0.4319, Validation Accuracy: 0.7976\n",
      "##########  Best Loss Model saved with loss: 0.4319  ##########\n",
      "##########  Best Loss Model saved checkpoin: 0.4319  ##########\n",
      "Epoch 7/10 - Fold 2\n"
     ]
    },
    {
     "name": "stderr",
     "output_type": "stream",
     "text": [
      "Training: 100%|██████████| 264/264 [00:24<00:00, 10.59it/s]\n"
     ]
    },
    {
     "name": "stdout",
     "output_type": "stream",
     "text": [
      "Train Loss: 0.4359, Train Accuracy: 0.7944\n"
     ]
    },
    {
     "name": "stderr",
     "output_type": "stream",
     "text": [
      "Validation: 100%|██████████| 39/39 [00:02<00:00, 14.33it/s]\n"
     ]
    },
    {
     "name": "stdout",
     "output_type": "stream",
     "text": [
      "Validation Loss: 0.4272, Validation Accuracy: 0.8013\n",
      "##########  Best Loss Model saved with loss: 0.4272  ##########\n",
      "##########  Best Loss Model saved checkpoin: 0.4272  ##########\n",
      "##########  Best Accuracy Model saved with accuracy: 0.8013  ##########\n",
      "Epoch 8/10 - Fold 2\n"
     ]
    },
    {
     "name": "stderr",
     "output_type": "stream",
     "text": [
      "Training: 100%|██████████| 264/264 [00:24<00:00, 10.64it/s]\n"
     ]
    },
    {
     "name": "stdout",
     "output_type": "stream",
     "text": [
      "Train Loss: 0.4323, Train Accuracy: 0.7952\n"
     ]
    },
    {
     "name": "stderr",
     "output_type": "stream",
     "text": [
      "Validation: 100%|██████████| 39/39 [00:02<00:00, 13.98it/s]\n"
     ]
    },
    {
     "name": "stdout",
     "output_type": "stream",
     "text": [
      "Validation Loss: 0.4237, Validation Accuracy: 0.7998\n",
      "##########  Best Loss Model saved with loss: 0.4237  ##########\n",
      "##########  Best Loss Model saved checkpoin: 0.4237  ##########\n",
      "Epoch 9/10 - Fold 2\n"
     ]
    },
    {
     "name": "stderr",
     "output_type": "stream",
     "text": [
      "Training: 100%|██████████| 264/264 [00:24<00:00, 10.69it/s]\n"
     ]
    },
    {
     "name": "stdout",
     "output_type": "stream",
     "text": [
      "Train Loss: 0.4267, Train Accuracy: 0.7996\n"
     ]
    },
    {
     "name": "stderr",
     "output_type": "stream",
     "text": [
      "Validation: 100%|██████████| 39/39 [00:02<00:00, 13.17it/s]\n"
     ]
    },
    {
     "name": "stdout",
     "output_type": "stream",
     "text": [
      "Validation Loss: 0.4195, Validation Accuracy: 0.8066\n",
      "##########  Best Loss Model saved with loss: 0.4195  ##########\n",
      "##########  Best Loss Model saved checkpoin: 0.4195  ##########\n",
      "##########  Best Accuracy Model saved with accuracy: 0.8066  ##########\n",
      "Epoch 10/10 - Fold 2\n"
     ]
    },
    {
     "name": "stderr",
     "output_type": "stream",
     "text": [
      "Training: 100%|██████████| 264/264 [00:24<00:00, 10.57it/s]\n"
     ]
    },
    {
     "name": "stdout",
     "output_type": "stream",
     "text": [
      "Train Loss: 0.4233, Train Accuracy: 0.8018\n"
     ]
    },
    {
     "name": "stderr",
     "output_type": "stream",
     "text": [
      "Validation: 100%|██████████| 39/39 [00:03<00:00, 12.75it/s]\n"
     ]
    },
    {
     "name": "stdout",
     "output_type": "stream",
     "text": [
      "Validation Loss: 0.4179, Validation Accuracy: 0.8070\n",
      "##########  Best Loss Model saved with loss: 0.4179  ##########\n",
      "##########  Best Loss Model saved checkpoin: 0.4179  ##########\n",
      "##########  Best Accuracy Model saved with accuracy: 0.8070  ##########\n",
      "\n",
      "Fold 3/8 시작...\n",
      "13190 1911\n",
      "Epoch 1/10 - Fold 3\n"
     ]
    },
    {
     "name": "stderr",
     "output_type": "stream",
     "text": [
      "Training: 100%|██████████| 264/264 [00:24<00:00, 10.79it/s]\n"
     ]
    },
    {
     "name": "stdout",
     "output_type": "stream",
     "text": [
      "Train Loss: 0.4210, Train Accuracy: 0.8024\n"
     ]
    },
    {
     "name": "stderr",
     "output_type": "stream",
     "text": [
      "Validation: 100%|██████████| 39/39 [00:02<00:00, 14.30it/s]\n"
     ]
    },
    {
     "name": "stdout",
     "output_type": "stream",
     "text": [
      "Validation Loss: 0.4028, Validation Accuracy: 0.8128\n",
      "##########  Best Loss Model saved with loss: 0.4028  ##########\n",
      "##########  Best Loss Model saved checkpoin: 0.4028  ##########\n",
      "##########  Best Accuracy Model saved with accuracy: 0.8128  ##########\n",
      "Epoch 2/10 - Fold 3\n"
     ]
    },
    {
     "name": "stderr",
     "output_type": "stream",
     "text": [
      "Training: 100%|██████████| 264/264 [00:24<00:00, 10.64it/s]\n"
     ]
    },
    {
     "name": "stdout",
     "output_type": "stream",
     "text": [
      "Train Loss: 0.4175, Train Accuracy: 0.8043\n"
     ]
    },
    {
     "name": "stderr",
     "output_type": "stream",
     "text": [
      "Validation: 100%|██████████| 39/39 [00:02<00:00, 14.38it/s]\n"
     ]
    },
    {
     "name": "stdout",
     "output_type": "stream",
     "text": [
      "Validation Loss: 0.4011, Validation Accuracy: 0.8143\n",
      "##########  Best Loss Model saved with loss: 0.4011  ##########\n",
      "##########  Best Loss Model saved checkpoin: 0.4011  ##########\n",
      "##########  Best Accuracy Model saved with accuracy: 0.8143  ##########\n",
      "Epoch 3/10 - Fold 3\n"
     ]
    },
    {
     "name": "stderr",
     "output_type": "stream",
     "text": [
      "Training: 100%|██████████| 264/264 [00:24<00:00, 10.64it/s]\n"
     ]
    },
    {
     "name": "stdout",
     "output_type": "stream",
     "text": [
      "Train Loss: 0.4146, Train Accuracy: 0.8051\n"
     ]
    },
    {
     "name": "stderr",
     "output_type": "stream",
     "text": [
      "Validation: 100%|██████████| 39/39 [00:02<00:00, 14.21it/s]\n"
     ]
    },
    {
     "name": "stdout",
     "output_type": "stream",
     "text": [
      "Validation Loss: 0.3991, Validation Accuracy: 0.8159\n",
      "##########  Best Loss Model saved with loss: 0.3991  ##########\n",
      "##########  Best Loss Model saved checkpoin: 0.3991  ##########\n",
      "##########  Best Accuracy Model saved with accuracy: 0.8159  ##########\n",
      "Epoch 4/10 - Fold 3\n"
     ]
    },
    {
     "name": "stderr",
     "output_type": "stream",
     "text": [
      "Training: 100%|██████████| 264/264 [00:25<00:00, 10.48it/s]\n"
     ]
    },
    {
     "name": "stdout",
     "output_type": "stream",
     "text": [
      "Train Loss: 0.4124, Train Accuracy: 0.8067\n"
     ]
    },
    {
     "name": "stderr",
     "output_type": "stream",
     "text": [
      "Validation: 100%|██████████| 39/39 [00:02<00:00, 13.36it/s]\n"
     ]
    },
    {
     "name": "stdout",
     "output_type": "stream",
     "text": [
      "Validation Loss: 0.3955, Validation Accuracy: 0.8165\n",
      "##########  Best Loss Model saved with loss: 0.3955  ##########\n",
      "##########  Best Loss Model saved checkpoin: 0.3955  ##########\n",
      "##########  Best Accuracy Model saved with accuracy: 0.8165  ##########\n",
      "Epoch 5/10 - Fold 3\n"
     ]
    },
    {
     "name": "stderr",
     "output_type": "stream",
     "text": [
      "Training: 100%|██████████| 264/264 [00:24<00:00, 10.63it/s]\n"
     ]
    },
    {
     "name": "stdout",
     "output_type": "stream",
     "text": [
      "Train Loss: 0.4094, Train Accuracy: 0.8067\n"
     ]
    },
    {
     "name": "stderr",
     "output_type": "stream",
     "text": [
      "Validation: 100%|██████████| 39/39 [00:02<00:00, 13.64it/s]\n"
     ]
    },
    {
     "name": "stdout",
     "output_type": "stream",
     "text": [
      "Validation Loss: 0.3937, Validation Accuracy: 0.8178\n",
      "##########  Best Loss Model saved with loss: 0.3937  ##########\n",
      "##########  Best Loss Model saved checkpoin: 0.3937  ##########\n",
      "##########  Best Accuracy Model saved with accuracy: 0.8178  ##########\n",
      "Epoch 6/10 - Fold 3\n"
     ]
    },
    {
     "name": "stderr",
     "output_type": "stream",
     "text": [
      "Training: 100%|██████████| 264/264 [00:24<00:00, 10.64it/s]\n"
     ]
    },
    {
     "name": "stdout",
     "output_type": "stream",
     "text": [
      "Train Loss: 0.4076, Train Accuracy: 0.8089\n"
     ]
    },
    {
     "name": "stderr",
     "output_type": "stream",
     "text": [
      "Validation: 100%|██████████| 39/39 [00:02<00:00, 14.79it/s]\n"
     ]
    },
    {
     "name": "stdout",
     "output_type": "stream",
     "text": [
      "Validation Loss: 0.3904, Validation Accuracy: 0.8205\n",
      "##########  Best Loss Model saved with loss: 0.3904  ##########\n",
      "##########  Best Loss Model saved checkpoin: 0.3904  ##########\n",
      "##########  Best Accuracy Model saved with accuracy: 0.8205  ##########\n",
      "Epoch 7/10 - Fold 3\n"
     ]
    },
    {
     "name": "stderr",
     "output_type": "stream",
     "text": [
      "Training: 100%|██████████| 264/264 [00:24<00:00, 10.77it/s]\n"
     ]
    },
    {
     "name": "stdout",
     "output_type": "stream",
     "text": [
      "Train Loss: 0.4050, Train Accuracy: 0.8095\n"
     ]
    },
    {
     "name": "stderr",
     "output_type": "stream",
     "text": [
      "Validation: 100%|██████████| 39/39 [00:02<00:00, 14.44it/s]\n"
     ]
    },
    {
     "name": "stdout",
     "output_type": "stream",
     "text": [
      "Validation Loss: 0.3887, Validation Accuracy: 0.8183\n",
      "##########  Best Loss Model saved with loss: 0.3887  ##########\n",
      "##########  Best Loss Model saved checkpoin: 0.3887  ##########\n",
      "Epoch 8/10 - Fold 3\n"
     ]
    },
    {
     "name": "stderr",
     "output_type": "stream",
     "text": [
      "Training: 100%|██████████| 264/264 [00:24<00:00, 10.64it/s]\n"
     ]
    },
    {
     "name": "stdout",
     "output_type": "stream",
     "text": [
      "Train Loss: 0.4016, Train Accuracy: 0.8111\n"
     ]
    },
    {
     "name": "stderr",
     "output_type": "stream",
     "text": [
      "Validation: 100%|██████████| 39/39 [00:02<00:00, 13.81it/s]\n"
     ]
    },
    {
     "name": "stdout",
     "output_type": "stream",
     "text": [
      "Validation Loss: 0.3878, Validation Accuracy: 0.8192\n",
      "##########  Best Loss Model saved with loss: 0.3878  ##########\n",
      "##########  Best Loss Model saved checkpoin: 0.3878  ##########\n",
      "Epoch 9/10 - Fold 3\n"
     ]
    },
    {
     "name": "stderr",
     "output_type": "stream",
     "text": [
      "Training: 100%|██████████| 264/264 [01:42<00:00,  2.59it/s]\n"
     ]
    },
    {
     "name": "stdout",
     "output_type": "stream",
     "text": [
      "Train Loss: 0.4003, Train Accuracy: 0.8108\n"
     ]
    },
    {
     "name": "stderr",
     "output_type": "stream",
     "text": [
      "Validation: 100%|██████████| 39/39 [00:08<00:00,  4.34it/s]\n"
     ]
    },
    {
     "name": "stdout",
     "output_type": "stream",
     "text": [
      "Validation Loss: 0.3880, Validation Accuracy: 0.8225\n",
      "##########  Best Accuracy Model saved with accuracy: 0.8225  ##########\n",
      "Epoch 10/10 - Fold 3\n"
     ]
    },
    {
     "name": "stderr",
     "output_type": "stream",
     "text": [
      "Training: 100%|██████████| 264/264 [00:27<00:00,  9.65it/s]\n"
     ]
    },
    {
     "name": "stdout",
     "output_type": "stream",
     "text": [
      "Train Loss: 0.3984, Train Accuracy: 0.8125\n"
     ]
    },
    {
     "name": "stderr",
     "output_type": "stream",
     "text": [
      "Validation: 100%|██████████| 39/39 [00:02<00:00, 13.97it/s]\n"
     ]
    },
    {
     "name": "stdout",
     "output_type": "stream",
     "text": [
      "Validation Loss: 0.3850, Validation Accuracy: 0.8179\n",
      "##########  Best Loss Model saved with loss: 0.3850  ##########\n",
      "##########  Best Loss Model saved checkpoin: 0.3850  ##########\n",
      "\n",
      "Fold 4/8 시작...\n",
      "13254 1847\n",
      "Epoch 1/10 - Fold 4\n"
     ]
    },
    {
     "name": "stderr",
     "output_type": "stream",
     "text": [
      "Training: 100%|██████████| 266/266 [00:25<00:00, 10.49it/s]\n"
     ]
    },
    {
     "name": "stdout",
     "output_type": "stream",
     "text": [
      "Train Loss: 0.3974, Train Accuracy: 0.8118\n"
     ]
    },
    {
     "name": "stderr",
     "output_type": "stream",
     "text": [
      "Validation: 100%|██████████| 37/37 [00:02<00:00, 12.67it/s]\n"
     ]
    },
    {
     "name": "stdout",
     "output_type": "stream",
     "text": [
      "Validation Loss: 0.3778, Validation Accuracy: 0.8315\n",
      "##########  Best Loss Model saved with loss: 0.3778  ##########\n",
      "##########  Best Loss Model saved checkpoin: 0.3778  ##########\n",
      "##########  Best Accuracy Model saved with accuracy: 0.8315  ##########\n",
      "Epoch 2/10 - Fold 4\n"
     ]
    },
    {
     "name": "stderr",
     "output_type": "stream",
     "text": [
      "Training: 100%|██████████| 266/266 [00:24<00:00, 10.79it/s]\n"
     ]
    },
    {
     "name": "stdout",
     "output_type": "stream",
     "text": [
      "Train Loss: 0.3954, Train Accuracy: 0.8126\n"
     ]
    },
    {
     "name": "stderr",
     "output_type": "stream",
     "text": [
      "Validation: 100%|██████████| 37/37 [00:02<00:00, 13.56it/s]\n"
     ]
    },
    {
     "name": "stdout",
     "output_type": "stream",
     "text": [
      "Validation Loss: 0.3801, Validation Accuracy: 0.8300\n",
      "Epoch 3/10 - Fold 4\n"
     ]
    },
    {
     "name": "stderr",
     "output_type": "stream",
     "text": [
      "Training: 100%|██████████| 266/266 [00:25<00:00, 10.53it/s]\n"
     ]
    },
    {
     "name": "stdout",
     "output_type": "stream",
     "text": [
      "Train Loss: 0.3938, Train Accuracy: 0.8149\n"
     ]
    },
    {
     "name": "stderr",
     "output_type": "stream",
     "text": [
      "Validation: 100%|██████████| 37/37 [00:02<00:00, 13.87it/s]\n"
     ]
    },
    {
     "name": "stdout",
     "output_type": "stream",
     "text": [
      "Validation Loss: 0.3773, Validation Accuracy: 0.8309\n",
      "##########  Best Loss Model saved with loss: 0.3773  ##########\n",
      "##########  Best Loss Model saved checkpoin: 0.3773  ##########\n",
      "Epoch 4/10 - Fold 4\n"
     ]
    },
    {
     "name": "stderr",
     "output_type": "stream",
     "text": [
      "Training: 100%|██████████| 266/266 [00:25<00:00, 10.58it/s]\n"
     ]
    },
    {
     "name": "stdout",
     "output_type": "stream",
     "text": [
      "Train Loss: 0.3931, Train Accuracy: 0.8138\n"
     ]
    },
    {
     "name": "stderr",
     "output_type": "stream",
     "text": [
      "Validation: 100%|██████████| 37/37 [00:02<00:00, 14.01it/s]\n"
     ]
    },
    {
     "name": "stdout",
     "output_type": "stream",
     "text": [
      "Validation Loss: 0.3750, Validation Accuracy: 0.8311\n",
      "##########  Best Loss Model saved with loss: 0.3750  ##########\n",
      "##########  Best Loss Model saved checkpoin: 0.3750  ##########\n",
      "Epoch 5/10 - Fold 4\n"
     ]
    },
    {
     "name": "stderr",
     "output_type": "stream",
     "text": [
      "Training: 100%|██████████| 266/266 [00:24<00:00, 10.79it/s]\n"
     ]
    },
    {
     "name": "stdout",
     "output_type": "stream",
     "text": [
      "Train Loss: 0.3902, Train Accuracy: 0.8147\n"
     ]
    },
    {
     "name": "stderr",
     "output_type": "stream",
     "text": [
      "Validation: 100%|██████████| 37/37 [00:02<00:00, 13.79it/s]\n"
     ]
    },
    {
     "name": "stdout",
     "output_type": "stream",
     "text": [
      "Validation Loss: 0.3746, Validation Accuracy: 0.8301\n",
      "##########  Best Loss Model saved with loss: 0.3746  ##########\n",
      "##########  Best Loss Model saved checkpoin: 0.3746  ##########\n",
      "Epoch 6/10 - Fold 4\n"
     ]
    },
    {
     "name": "stderr",
     "output_type": "stream",
     "text": [
      "Training: 100%|██████████| 266/266 [00:24<00:00, 10.65it/s]\n"
     ]
    },
    {
     "name": "stdout",
     "output_type": "stream",
     "text": [
      "Train Loss: 0.3890, Train Accuracy: 0.8159\n"
     ]
    },
    {
     "name": "stderr",
     "output_type": "stream",
     "text": [
      "Validation: 100%|██████████| 37/37 [00:02<00:00, 13.69it/s]\n"
     ]
    },
    {
     "name": "stdout",
     "output_type": "stream",
     "text": [
      "Validation Loss: 0.3740, Validation Accuracy: 0.8286\n",
      "##########  Best Loss Model saved with loss: 0.3740  ##########\n",
      "##########  Best Loss Model saved checkpoin: 0.3740  ##########\n",
      "Epoch 7/10 - Fold 4\n"
     ]
    },
    {
     "name": "stderr",
     "output_type": "stream",
     "text": [
      "Training: 100%|██████████| 266/266 [00:25<00:00, 10.64it/s]\n"
     ]
    },
    {
     "name": "stdout",
     "output_type": "stream",
     "text": [
      "Train Loss: 0.3877, Train Accuracy: 0.8167\n"
     ]
    },
    {
     "name": "stderr",
     "output_type": "stream",
     "text": [
      "Validation: 100%|██████████| 37/37 [00:02<00:00, 13.04it/s]\n"
     ]
    },
    {
     "name": "stdout",
     "output_type": "stream",
     "text": [
      "Validation Loss: 0.3736, Validation Accuracy: 0.8328\n",
      "##########  Best Loss Model saved with loss: 0.3736  ##########\n",
      "##########  Best Loss Model saved checkpoin: 0.3736  ##########\n",
      "##########  Best Accuracy Model saved with accuracy: 0.8328  ##########\n",
      "Epoch 8/10 - Fold 4\n"
     ]
    },
    {
     "name": "stderr",
     "output_type": "stream",
     "text": [
      "Training: 100%|██████████| 266/266 [00:25<00:00, 10.61it/s]\n"
     ]
    },
    {
     "name": "stdout",
     "output_type": "stream",
     "text": [
      "Train Loss: 0.3860, Train Accuracy: 0.8175\n"
     ]
    },
    {
     "name": "stderr",
     "output_type": "stream",
     "text": [
      "Validation: 100%|██████████| 37/37 [00:02<00:00, 13.97it/s]\n"
     ]
    },
    {
     "name": "stdout",
     "output_type": "stream",
     "text": [
      "Validation Loss: 0.3724, Validation Accuracy: 0.8307\n",
      "##########  Best Loss Model saved with loss: 0.3724  ##########\n",
      "##########  Best Loss Model saved checkpoin: 0.3724  ##########\n",
      "Epoch 9/10 - Fold 4\n"
     ]
    },
    {
     "name": "stderr",
     "output_type": "stream",
     "text": [
      "Training: 100%|██████████| 266/266 [00:25<00:00, 10.64it/s]\n"
     ]
    },
    {
     "name": "stdout",
     "output_type": "stream",
     "text": [
      "Train Loss: 0.3841, Train Accuracy: 0.8204\n"
     ]
    },
    {
     "name": "stderr",
     "output_type": "stream",
     "text": [
      "Validation: 100%|██████████| 37/37 [00:02<00:00, 14.11it/s]\n"
     ]
    },
    {
     "name": "stdout",
     "output_type": "stream",
     "text": [
      "Validation Loss: 0.3718, Validation Accuracy: 0.8307\n",
      "##########  Best Loss Model saved with loss: 0.3718  ##########\n",
      "##########  Best Loss Model saved checkpoin: 0.3718  ##########\n",
      "Epoch 10/10 - Fold 4\n"
     ]
    },
    {
     "name": "stderr",
     "output_type": "stream",
     "text": [
      "Training: 100%|██████████| 266/266 [00:24<00:00, 10.75it/s]\n"
     ]
    },
    {
     "name": "stdout",
     "output_type": "stream",
     "text": [
      "Train Loss: 0.3831, Train Accuracy: 0.8187\n"
     ]
    },
    {
     "name": "stderr",
     "output_type": "stream",
     "text": [
      "Validation: 100%|██████████| 37/37 [00:02<00:00, 13.84it/s]\n"
     ]
    },
    {
     "name": "stdout",
     "output_type": "stream",
     "text": [
      "Validation Loss: 0.3704, Validation Accuracy: 0.8303\n",
      "##########  Best Loss Model saved with loss: 0.3704  ##########\n",
      "##########  Best Loss Model saved checkpoin: 0.3704  ##########\n",
      "\n",
      "Fold 5/8 시작...\n",
      "13228 1873\n",
      "Epoch 1/10 - Fold 5\n"
     ]
    },
    {
     "name": "stderr",
     "output_type": "stream",
     "text": [
      "Training: 100%|██████████| 265/265 [00:25<00:00, 10.51it/s]\n"
     ]
    },
    {
     "name": "stdout",
     "output_type": "stream",
     "text": [
      "Train Loss: 0.3844, Train Accuracy: 0.8188\n"
     ]
    },
    {
     "name": "stderr",
     "output_type": "stream",
     "text": [
      "Validation: 100%|██████████| 38/38 [00:02<00:00, 13.73it/s]\n"
     ]
    },
    {
     "name": "stdout",
     "output_type": "stream",
     "text": [
      "Validation Loss: 0.3586, Validation Accuracy: 0.8398\n",
      "##########  Best Loss Model saved with loss: 0.3586  ##########\n",
      "##########  Best Loss Model saved checkpoin: 0.3586  ##########\n",
      "##########  Best Accuracy Model saved with accuracy: 0.8398  ##########\n",
      "Epoch 2/10 - Fold 5\n"
     ]
    },
    {
     "name": "stderr",
     "output_type": "stream",
     "text": [
      "Training: 100%|██████████| 265/265 [00:24<00:00, 10.64it/s]\n"
     ]
    },
    {
     "name": "stdout",
     "output_type": "stream",
     "text": [
      "Train Loss: 0.3826, Train Accuracy: 0.8180\n"
     ]
    },
    {
     "name": "stderr",
     "output_type": "stream",
     "text": [
      "Validation: 100%|██████████| 38/38 [00:02<00:00, 14.39it/s]\n"
     ]
    },
    {
     "name": "stdout",
     "output_type": "stream",
     "text": [
      "Validation Loss: 0.3599, Validation Accuracy: 0.8383\n",
      "Epoch 3/10 - Fold 5\n"
     ]
    },
    {
     "name": "stderr",
     "output_type": "stream",
     "text": [
      "Training: 100%|██████████| 265/265 [00:25<00:00, 10.42it/s]\n"
     ]
    },
    {
     "name": "stdout",
     "output_type": "stream",
     "text": [
      "Train Loss: 0.3814, Train Accuracy: 0.8186\n"
     ]
    },
    {
     "name": "stderr",
     "output_type": "stream",
     "text": [
      "Validation: 100%|██████████| 38/38 [00:02<00:00, 13.32it/s]\n"
     ]
    },
    {
     "name": "stdout",
     "output_type": "stream",
     "text": [
      "Validation Loss: 0.3603, Validation Accuracy: 0.8395\n",
      "Epoch 4/10 - Fold 5\n"
     ]
    },
    {
     "name": "stderr",
     "output_type": "stream",
     "text": [
      "Training: 100%|██████████| 265/265 [00:25<00:00, 10.38it/s]\n"
     ]
    },
    {
     "name": "stdout",
     "output_type": "stream",
     "text": [
      "Train Loss: 0.3801, Train Accuracy: 0.8209\n"
     ]
    },
    {
     "name": "stderr",
     "output_type": "stream",
     "text": [
      "Validation: 100%|██████████| 38/38 [00:02<00:00, 13.14it/s]\n"
     ]
    },
    {
     "name": "stdout",
     "output_type": "stream",
     "text": [
      "Validation Loss: 0.3583, Validation Accuracy: 0.8404\n",
      "##########  Best Loss Model saved with loss: 0.3583  ##########\n",
      "##########  Best Loss Model saved checkpoin: 0.3583  ##########\n",
      "##########  Best Accuracy Model saved with accuracy: 0.8404  ##########\n",
      "Epoch 5/10 - Fold 5\n"
     ]
    },
    {
     "name": "stderr",
     "output_type": "stream",
     "text": [
      "Training: 100%|██████████| 265/265 [00:25<00:00, 10.56it/s]\n"
     ]
    },
    {
     "name": "stdout",
     "output_type": "stream",
     "text": [
      "Train Loss: 0.3794, Train Accuracy: 0.8203\n"
     ]
    },
    {
     "name": "stderr",
     "output_type": "stream",
     "text": [
      "Validation: 100%|██████████| 38/38 [00:02<00:00, 13.85it/s]\n"
     ]
    },
    {
     "name": "stdout",
     "output_type": "stream",
     "text": [
      "Validation Loss: 0.3577, Validation Accuracy: 0.8386\n",
      "##########  Best Loss Model saved with loss: 0.3577  ##########\n",
      "##########  Best Loss Model saved checkpoin: 0.3577  ##########\n",
      "Epoch 6/10 - Fold 5\n"
     ]
    },
    {
     "name": "stderr",
     "output_type": "stream",
     "text": [
      "Training: 100%|██████████| 265/265 [00:25<00:00, 10.55it/s]\n"
     ]
    },
    {
     "name": "stdout",
     "output_type": "stream",
     "text": [
      "Train Loss: 0.3772, Train Accuracy: 0.8213\n"
     ]
    },
    {
     "name": "stderr",
     "output_type": "stream",
     "text": [
      "Validation: 100%|██████████| 38/38 [00:02<00:00, 14.01it/s]\n"
     ]
    },
    {
     "name": "stdout",
     "output_type": "stream",
     "text": [
      "Validation Loss: 0.3595, Validation Accuracy: 0.8403\n",
      "Epoch 7/10 - Fold 5\n"
     ]
    },
    {
     "name": "stderr",
     "output_type": "stream",
     "text": [
      "Training: 100%|██████████| 265/265 [00:24<00:00, 10.64it/s]\n"
     ]
    },
    {
     "name": "stdout",
     "output_type": "stream",
     "text": [
      "Train Loss: 0.3761, Train Accuracy: 0.8212\n"
     ]
    },
    {
     "name": "stderr",
     "output_type": "stream",
     "text": [
      "Validation: 100%|██████████| 38/38 [00:02<00:00, 13.74it/s]\n"
     ]
    },
    {
     "name": "stdout",
     "output_type": "stream",
     "text": [
      "Validation Loss: 0.3567, Validation Accuracy: 0.8400\n",
      "##########  Best Loss Model saved with loss: 0.3567  ##########\n",
      "##########  Best Loss Model saved checkpoin: 0.3567  ##########\n",
      "Epoch 8/10 - Fold 5\n"
     ]
    },
    {
     "name": "stderr",
     "output_type": "stream",
     "text": [
      "Training: 100%|██████████| 265/265 [00:25<00:00, 10.48it/s]\n"
     ]
    },
    {
     "name": "stdout",
     "output_type": "stream",
     "text": [
      "Train Loss: 0.3745, Train Accuracy: 0.8225\n"
     ]
    },
    {
     "name": "stderr",
     "output_type": "stream",
     "text": [
      "Validation: 100%|██████████| 38/38 [00:02<00:00, 14.29it/s]\n"
     ]
    },
    {
     "name": "stdout",
     "output_type": "stream",
     "text": [
      "Validation Loss: 0.3555, Validation Accuracy: 0.8393\n",
      "##########  Best Loss Model saved with loss: 0.3555  ##########\n",
      "##########  Best Loss Model saved checkpoin: 0.3555  ##########\n",
      "Epoch 9/10 - Fold 5\n"
     ]
    },
    {
     "name": "stderr",
     "output_type": "stream",
     "text": [
      "Training: 100%|██████████| 265/265 [00:24<00:00, 10.73it/s]\n"
     ]
    },
    {
     "name": "stdout",
     "output_type": "stream",
     "text": [
      "Train Loss: 0.3737, Train Accuracy: 0.8226\n"
     ]
    },
    {
     "name": "stderr",
     "output_type": "stream",
     "text": [
      "Validation: 100%|██████████| 38/38 [00:02<00:00, 13.13it/s]\n"
     ]
    },
    {
     "name": "stdout",
     "output_type": "stream",
     "text": [
      "Validation Loss: 0.3575, Validation Accuracy: 0.8414\n",
      "##########  Best Accuracy Model saved with accuracy: 0.8414  ##########\n",
      "Epoch 10/10 - Fold 5\n"
     ]
    },
    {
     "name": "stderr",
     "output_type": "stream",
     "text": [
      "Training: 100%|██████████| 265/265 [00:24<00:00, 10.65it/s]\n"
     ]
    },
    {
     "name": "stdout",
     "output_type": "stream",
     "text": [
      "Train Loss: 0.3736, Train Accuracy: 0.8228\n"
     ]
    },
    {
     "name": "stderr",
     "output_type": "stream",
     "text": [
      "Validation: 100%|██████████| 38/38 [00:02<00:00, 13.83it/s]\n"
     ]
    },
    {
     "name": "stdout",
     "output_type": "stream",
     "text": [
      "Validation Loss: 0.3564, Validation Accuracy: 0.8410\n",
      "\n",
      "Fold 6/8 시작...\n",
      "13196 1905\n",
      "Epoch 1/10 - Fold 6\n"
     ]
    },
    {
     "name": "stderr",
     "output_type": "stream",
     "text": [
      "Training: 100%|██████████| 264/264 [00:24<00:00, 10.58it/s]\n"
     ]
    },
    {
     "name": "stdout",
     "output_type": "stream",
     "text": [
      "Train Loss: 0.3726, Train Accuracy: 0.8235\n"
     ]
    },
    {
     "name": "stderr",
     "output_type": "stream",
     "text": [
      "Validation: 100%|██████████| 39/39 [00:02<00:00, 14.27it/s]\n"
     ]
    },
    {
     "name": "stdout",
     "output_type": "stream",
     "text": [
      "Validation Loss: 0.3460, Validation Accuracy: 0.8417\n",
      "##########  Best Loss Model saved with loss: 0.3460  ##########\n",
      "##########  Best Loss Model saved checkpoin: 0.3460  ##########\n",
      "##########  Best Accuracy Model saved with accuracy: 0.8417  ##########\n",
      "Epoch 2/10 - Fold 6\n"
     ]
    },
    {
     "name": "stderr",
     "output_type": "stream",
     "text": [
      "Training: 100%|██████████| 264/264 [00:24<00:00, 10.62it/s]\n"
     ]
    },
    {
     "name": "stdout",
     "output_type": "stream",
     "text": [
      "Train Loss: 0.3727, Train Accuracy: 0.8231\n"
     ]
    },
    {
     "name": "stderr",
     "output_type": "stream",
     "text": [
      "Validation: 100%|██████████| 39/39 [00:02<00:00, 13.85it/s]\n"
     ]
    },
    {
     "name": "stdout",
     "output_type": "stream",
     "text": [
      "Validation Loss: 0.3465, Validation Accuracy: 0.8409\n",
      "Epoch 3/10 - Fold 6\n"
     ]
    },
    {
     "name": "stderr",
     "output_type": "stream",
     "text": [
      "Training: 100%|██████████| 264/264 [00:24<00:00, 10.66it/s]\n"
     ]
    },
    {
     "name": "stdout",
     "output_type": "stream",
     "text": [
      "Train Loss: 0.3707, Train Accuracy: 0.8251\n"
     ]
    },
    {
     "name": "stderr",
     "output_type": "stream",
     "text": [
      "Validation: 100%|██████████| 39/39 [00:02<00:00, 14.02it/s]\n"
     ]
    },
    {
     "name": "stdout",
     "output_type": "stream",
     "text": [
      "Validation Loss: 0.3458, Validation Accuracy: 0.8427\n",
      "##########  Best Loss Model saved with loss: 0.3458  ##########\n",
      "##########  Best Loss Model saved checkpoin: 0.3458  ##########\n",
      "##########  Best Accuracy Model saved with accuracy: 0.8427  ##########\n",
      "Epoch 4/10 - Fold 6\n"
     ]
    },
    {
     "name": "stderr",
     "output_type": "stream",
     "text": [
      "Training: 100%|██████████| 264/264 [00:24<00:00, 10.71it/s]\n"
     ]
    },
    {
     "name": "stdout",
     "output_type": "stream",
     "text": [
      "Train Loss: 0.3700, Train Accuracy: 0.8250\n"
     ]
    },
    {
     "name": "stderr",
     "output_type": "stream",
     "text": [
      "Validation: 100%|██████████| 39/39 [00:02<00:00, 13.21it/s]\n"
     ]
    },
    {
     "name": "stdout",
     "output_type": "stream",
     "text": [
      "Validation Loss: 0.3451, Validation Accuracy: 0.8394\n",
      "##########  Best Loss Model saved with loss: 0.3451  ##########\n",
      "##########  Best Loss Model saved checkpoin: 0.3451  ##########\n",
      "Epoch 5/10 - Fold 6\n"
     ]
    },
    {
     "name": "stderr",
     "output_type": "stream",
     "text": [
      "Training: 100%|██████████| 264/264 [00:24<00:00, 10.70it/s]\n"
     ]
    },
    {
     "name": "stdout",
     "output_type": "stream",
     "text": [
      "Train Loss: 0.3691, Train Accuracy: 0.8248\n"
     ]
    },
    {
     "name": "stderr",
     "output_type": "stream",
     "text": [
      "Validation: 100%|██████████| 39/39 [00:02<00:00, 14.25it/s]\n"
     ]
    },
    {
     "name": "stdout",
     "output_type": "stream",
     "text": [
      "Validation Loss: 0.3456, Validation Accuracy: 0.8425\n",
      "Epoch 6/10 - Fold 6\n"
     ]
    },
    {
     "name": "stderr",
     "output_type": "stream",
     "text": [
      "Training: 100%|██████████| 264/264 [00:24<00:00, 10.70it/s]\n"
     ]
    },
    {
     "name": "stdout",
     "output_type": "stream",
     "text": [
      "Train Loss: 0.3688, Train Accuracy: 0.8248\n"
     ]
    },
    {
     "name": "stderr",
     "output_type": "stream",
     "text": [
      "Validation: 100%|██████████| 39/39 [00:02<00:00, 13.35it/s]\n"
     ]
    },
    {
     "name": "stdout",
     "output_type": "stream",
     "text": [
      "Validation Loss: 0.3449, Validation Accuracy: 0.8409\n",
      "##########  Best Loss Model saved with loss: 0.3449  ##########\n",
      "##########  Best Loss Model saved checkpoin: 0.3449  ##########\n",
      "Epoch 7/10 - Fold 6\n"
     ]
    },
    {
     "name": "stderr",
     "output_type": "stream",
     "text": [
      "Training: 100%|██████████| 264/264 [00:24<00:00, 10.73it/s]\n"
     ]
    },
    {
     "name": "stdout",
     "output_type": "stream",
     "text": [
      "Train Loss: 0.3665, Train Accuracy: 0.8260\n"
     ]
    },
    {
     "name": "stderr",
     "output_type": "stream",
     "text": [
      "Validation: 100%|██████████| 39/39 [00:02<00:00, 13.50it/s]\n"
     ]
    },
    {
     "name": "stdout",
     "output_type": "stream",
     "text": [
      "Validation Loss: 0.3451, Validation Accuracy: 0.8392\n",
      "Epoch 8/10 - Fold 6\n"
     ]
    },
    {
     "name": "stderr",
     "output_type": "stream",
     "text": [
      "Training: 100%|██████████| 264/264 [00:24<00:00, 10.76it/s]\n"
     ]
    },
    {
     "name": "stdout",
     "output_type": "stream",
     "text": [
      "Train Loss: 0.3656, Train Accuracy: 0.8276\n"
     ]
    },
    {
     "name": "stderr",
     "output_type": "stream",
     "text": [
      "Validation: 100%|██████████| 39/39 [00:02<00:00, 13.47it/s]\n"
     ]
    },
    {
     "name": "stdout",
     "output_type": "stream",
     "text": [
      "Validation Loss: 0.3452, Validation Accuracy: 0.8386\n",
      "Epoch 9/10 - Fold 6\n"
     ]
    },
    {
     "name": "stderr",
     "output_type": "stream",
     "text": [
      "Training: 100%|██████████| 264/264 [00:24<00:00, 10.69it/s]\n"
     ]
    },
    {
     "name": "stdout",
     "output_type": "stream",
     "text": [
      "Train Loss: 0.3654, Train Accuracy: 0.8263\n"
     ]
    },
    {
     "name": "stderr",
     "output_type": "stream",
     "text": [
      "Validation: 100%|██████████| 39/39 [00:02<00:00, 13.81it/s]\n"
     ]
    },
    {
     "name": "stdout",
     "output_type": "stream",
     "text": [
      "Validation Loss: 0.3461, Validation Accuracy: 0.8406\n",
      "3 에포크 동안 Loss 개선 없음. 조기 종료.\n",
      "폴드 6: 조기 종료됨.\n",
      "\n",
      "Fold 7/8 시작...\n",
      "13225 1876\n",
      "Epoch 1/10 - Fold 7\n"
     ]
    },
    {
     "name": "stderr",
     "output_type": "stream",
     "text": [
      "Training: 100%|██████████| 265/265 [00:25<00:00, 10.46it/s]\n"
     ]
    },
    {
     "name": "stdout",
     "output_type": "stream",
     "text": [
      "Train Loss: 0.3653, Train Accuracy: 0.8264\n"
     ]
    },
    {
     "name": "stderr",
     "output_type": "stream",
     "text": [
      "Validation: 100%|██████████| 38/38 [00:02<00:00, 13.55it/s]\n"
     ]
    },
    {
     "name": "stdout",
     "output_type": "stream",
     "text": [
      "Validation Loss: 0.3389, Validation Accuracy: 0.8517\n",
      "##########  Best Loss Model saved with loss: 0.3389  ##########\n",
      "##########  Best Loss Model saved checkpoin: 0.3389  ##########\n",
      "##########  Best Accuracy Model saved with accuracy: 0.8517  ##########\n",
      "Epoch 2/10 - Fold 7\n"
     ]
    },
    {
     "name": "stderr",
     "output_type": "stream",
     "text": [
      "Training: 100%|██████████| 265/265 [00:24<00:00, 10.77it/s]\n"
     ]
    },
    {
     "name": "stdout",
     "output_type": "stream",
     "text": [
      "Train Loss: 0.3628, Train Accuracy: 0.8271\n"
     ]
    },
    {
     "name": "stderr",
     "output_type": "stream",
     "text": [
      "Validation: 100%|██████████| 38/38 [00:02<00:00, 14.29it/s]\n"
     ]
    },
    {
     "name": "stdout",
     "output_type": "stream",
     "text": [
      "Validation Loss: 0.3392, Validation Accuracy: 0.8489\n",
      "Epoch 3/10 - Fold 7\n"
     ]
    },
    {
     "name": "stderr",
     "output_type": "stream",
     "text": [
      "Training: 100%|██████████| 265/265 [00:25<00:00, 10.59it/s]\n"
     ]
    },
    {
     "name": "stdout",
     "output_type": "stream",
     "text": [
      "Train Loss: 0.3631, Train Accuracy: 0.8273\n"
     ]
    },
    {
     "name": "stderr",
     "output_type": "stream",
     "text": [
      "Validation: 100%|██████████| 38/38 [00:02<00:00, 14.48it/s]\n"
     ]
    },
    {
     "name": "stdout",
     "output_type": "stream",
     "text": [
      "Validation Loss: 0.3370, Validation Accuracy: 0.8495\n",
      "##########  Best Loss Model saved with loss: 0.3370  ##########\n",
      "##########  Best Loss Model saved checkpoin: 0.3370  ##########\n",
      "Epoch 4/10 - Fold 7\n"
     ]
    },
    {
     "name": "stderr",
     "output_type": "stream",
     "text": [
      "Training: 100%|██████████| 265/265 [00:24<00:00, 10.79it/s]\n"
     ]
    },
    {
     "name": "stdout",
     "output_type": "stream",
     "text": [
      "Train Loss: 0.3627, Train Accuracy: 0.8275\n"
     ]
    },
    {
     "name": "stderr",
     "output_type": "stream",
     "text": [
      "Validation: 100%|██████████| 38/38 [00:02<00:00, 13.86it/s]\n"
     ]
    },
    {
     "name": "stdout",
     "output_type": "stream",
     "text": [
      "Validation Loss: 0.3385, Validation Accuracy: 0.8504\n",
      "Epoch 5/10 - Fold 7\n"
     ]
    },
    {
     "name": "stderr",
     "output_type": "stream",
     "text": [
      "Training: 100%|██████████| 265/265 [00:25<00:00, 10.43it/s]\n"
     ]
    },
    {
     "name": "stdout",
     "output_type": "stream",
     "text": [
      "Train Loss: 0.3604, Train Accuracy: 0.8290\n"
     ]
    },
    {
     "name": "stderr",
     "output_type": "stream",
     "text": [
      "Validation: 100%|██████████| 38/38 [00:02<00:00, 13.68it/s]\n"
     ]
    },
    {
     "name": "stdout",
     "output_type": "stream",
     "text": [
      "Validation Loss: 0.3375, Validation Accuracy: 0.8459\n",
      "Epoch 6/10 - Fold 7\n"
     ]
    },
    {
     "name": "stderr",
     "output_type": "stream",
     "text": [
      "Training: 100%|██████████| 265/265 [00:25<00:00, 10.39it/s]\n"
     ]
    },
    {
     "name": "stdout",
     "output_type": "stream",
     "text": [
      "Train Loss: 0.3592, Train Accuracy: 0.8309\n"
     ]
    },
    {
     "name": "stderr",
     "output_type": "stream",
     "text": [
      "Validation: 100%|██████████| 38/38 [00:02<00:00, 13.03it/s]\n"
     ]
    },
    {
     "name": "stdout",
     "output_type": "stream",
     "text": [
      "Validation Loss: 0.3395, Validation Accuracy: 0.8505\n",
      "3 에포크 동안 Loss 개선 없음. 조기 종료.\n",
      "폴드 7: 조기 종료됨.\n",
      "\n",
      "Fold 8/8 시작...\n",
      "13205 1896\n",
      "Epoch 1/10 - Fold 8\n"
     ]
    },
    {
     "name": "stderr",
     "output_type": "stream",
     "text": [
      "Training: 100%|██████████| 265/265 [00:25<00:00, 10.46it/s]\n"
     ]
    },
    {
     "name": "stdout",
     "output_type": "stream",
     "text": [
      "Train Loss: 0.3602, Train Accuracy: 0.8302\n"
     ]
    },
    {
     "name": "stderr",
     "output_type": "stream",
     "text": [
      "Validation: 100%|██████████| 38/38 [00:02<00:00, 13.01it/s]\n"
     ]
    },
    {
     "name": "stdout",
     "output_type": "stream",
     "text": [
      "Validation Loss: 0.3329, Validation Accuracy: 0.8453\n",
      "##########  Best Loss Model saved with loss: 0.3329  ##########\n",
      "##########  Best Loss Model saved checkpoin: 0.3329  ##########\n",
      "##########  Best Accuracy Model saved with accuracy: 0.8453  ##########\n",
      "Epoch 2/10 - Fold 8\n"
     ]
    },
    {
     "name": "stderr",
     "output_type": "stream",
     "text": [
      "Training: 100%|██████████| 265/265 [00:26<00:00,  9.99it/s]\n"
     ]
    },
    {
     "name": "stdout",
     "output_type": "stream",
     "text": [
      "Train Loss: 0.3572, Train Accuracy: 0.8314\n"
     ]
    },
    {
     "name": "stderr",
     "output_type": "stream",
     "text": [
      "Validation: 100%|██████████| 38/38 [00:02<00:00, 13.18it/s]\n"
     ]
    },
    {
     "name": "stdout",
     "output_type": "stream",
     "text": [
      "Validation Loss: 0.3341, Validation Accuracy: 0.8470\n",
      "##########  Best Accuracy Model saved with accuracy: 0.8470  ##########\n",
      "Epoch 3/10 - Fold 8\n"
     ]
    },
    {
     "name": "stderr",
     "output_type": "stream",
     "text": [
      "Training: 100%|██████████| 265/265 [00:26<00:00, 10.13it/s]\n"
     ]
    },
    {
     "name": "stdout",
     "output_type": "stream",
     "text": [
      "Train Loss: 0.3566, Train Accuracy: 0.8325\n"
     ]
    },
    {
     "name": "stderr",
     "output_type": "stream",
     "text": [
      "Validation: 100%|██████████| 38/38 [00:02<00:00, 13.60it/s]\n"
     ]
    },
    {
     "name": "stdout",
     "output_type": "stream",
     "text": [
      "Validation Loss: 0.3382, Validation Accuracy: 0.8455\n",
      "Epoch 4/10 - Fold 8\n"
     ]
    },
    {
     "name": "stderr",
     "output_type": "stream",
     "text": [
      "Training: 100%|██████████| 265/265 [00:25<00:00, 10.55it/s]\n"
     ]
    },
    {
     "name": "stdout",
     "output_type": "stream",
     "text": [
      "Train Loss: 0.3551, Train Accuracy: 0.8336\n"
     ]
    },
    {
     "name": "stderr",
     "output_type": "stream",
     "text": [
      "Validation: 100%|██████████| 38/38 [00:02<00:00, 13.85it/s]\n"
     ]
    },
    {
     "name": "stdout",
     "output_type": "stream",
     "text": [
      "Validation Loss: 0.3355, Validation Accuracy: 0.8430\n",
      "3 에포크 동안 Loss 개선 없음. 조기 종료.\n",
      "폴드 8: 조기 종료됨.\n"
     ]
    },
    {
     "data": {
      "image/png": "[encoded data removed]",
      "text/plain": [
       "<Figure size 1200x600 with 1 Axes>"
      ]
     },
     "metadata": {},
     "output_type": "display_data"
    },
    {
     "data": {
      "image/png": "[encoded data removed]",
      "text/plain": [
       "<Figure size 1200x600 with 1 Axes>"
      ]
     },
     "metadata": {},
     "output_type": "display_data"
    },
    {
     "name": "stdout",
     "output_type": "stream",
     "text": [
      "SIMPLE CNN K-Fold Cross-Validation 완료\n"
     ]
    }
   ],
   "source": [
    "from iterstrat.ml_stratifiers import MultilabelStratifiedKFold \n",
    "\n",
    "# One-Hot Encoding 적용\n",
    "train_df_encoded = train_df['genres'].str.get_dummies(sep=',')\n",
    "\n",
    "# K-Fold 설정\n",
    "num_folds = 8  # 폴드 수\n",
    "# kf = StratifiedKFold(n_splits=num_folds, shuffle=True, random_state=SEED)\n",
    "kf = MultilabelStratifiedKFold(n_splits=num_folds, shuffle=True, random_state=SEED)\n",
    "\n",
    "num_epochs = 10 # 일단 10번으로 테스트\n",
    "train_loss_, val_loss_ = [], []     # 그래프용 로스저장\n",
    "train_acc_, val_acc_ = [], []       # 그래프용 acc 저장\n",
    "\n",
    "save_dir = \"C:/sg0117/hallym/2024-dl-final/save_model_k-fold_simple/\"\n",
    "\n",
    "# K-Fold 루프 시작\n",
    "for fold, (train_idx, val_idx) in enumerate(kf.split(train_df, train_df_encoded)):\n",
    "    print(f\"\\nFold {fold + 1}/{num_folds} 시작...\")\n",
    "\n",
    "    # 데이터 분할\n",
    "    train_fold_df = train_df.iloc[train_idx].reset_index(drop=True)\n",
    "    val_fold_df = train_df.iloc[val_idx].reset_index(drop=True)\n",
    "    \n",
    "    # 데이터셋 및 데이터로더 생성\n",
    "    train_dataset = MovieDataset(df=train_fold_df, transform=train_transform)\n",
    "    val_dataset = MovieDataset(df=val_fold_df, transform=test_transform)\n",
    "    print(train_dataset.__len__(), val_dataset.__len__())\n",
    "    \n",
    "    # pin_memory 쓰면 gpu cpu 이동 빨라짐\n",
    "    train_loader = DataLoader(train_dataset, batch_size=batch_size, shuffle=True, pin_memory=True, num_workers=0)\n",
    "    val_loader = DataLoader(val_dataset, batch_size=batch_size, shuffle=False, pin_memory=True, num_workers=0)\n",
    "\n",
    "    best_val_loss = float(\"inf\")    # loss 무한대\n",
    "    best_val_acc = 0.0              # acc 0으로 설정\n",
    "    patience = 3                    # Early stopping을 적용 에포크\n",
    "    early_cnt = 0                   # 개선되지 않은 에포크 수를 기록\n",
    "    early_stop = False              # d얼리스탑 플래그\n",
    "    # 러닝레이트 스케줄러. loss 가 5번 동안 갱신되지 않으면 학습률 감소\n",
    "    scheduler = torch.optim.lr_scheduler.ReduceLROnPlateau(optimizer,mode='min', factor=0.5, patience=5)\n",
    "\n",
    "    # 에포크 루프 시작\n",
    "    for epoch in range(num_epochs):\n",
    "        if early_stop:\n",
    "            print(f\"폴드 {fold + 1}: 조기 종료됨.\")\n",
    "            break\n",
    "\n",
    "        print(f\"Epoch {epoch+1}/{num_epochs} - Fold {fold + 1}\")\n",
    "\n",
    "        # 학습\n",
    "        train_loss, train_preds, train_labels = train(model, train_loader, criterion, optimizer, device)\n",
    "        train_loss_.append(train_loss)\n",
    "        \n",
    "        # train 임계값 0.4로 예측\n",
    "        train_pred_binary = (train_preds > 0.4).int()\n",
    "        train_label_binary = train_labels.int()\n",
    "        train_acc = (train_pred_binary == train_label_binary).sum().item() / train_label_binary.numel()\n",
    "        train_acc_.append(train_acc)\n",
    "        print(f\"Train Loss: {train_loss:.4f}, Train Accuracy: {train_acc:.4f}\")\n",
    "\n",
    "        # 검증\n",
    "        val_loss, val_preds, val_labels = validate(model, val_loader, criterion, device)\n",
    "        val_loss_.append(val_loss)\n",
    "        \n",
    "        # val 임계값 0.4로 예측\n",
    "        val_pred_binary = (val_preds > 0.4).int()\n",
    "        val_label_binary = val_labels.int()\n",
    "        val_acc = (val_pred_binary == val_label_binary).sum().item() / val_label_binary.numel()\n",
    "        val_acc_.append(val_acc)\n",
    "        print(f\"Validation Loss: {val_loss:.4f}, Validation Accuracy: {val_acc:.4f}\")\n",
    "\n",
    "        # Best model 저장\n",
    "        if val_loss < best_val_loss:\n",
    "            best_val_loss = val_loss\n",
    "            early_cnt = 0  # 최저 loss 갱신되면 카운트 초기화\n",
    "            torch.save(model, save_dir + f\"best_loss_simple_fold{fold+1}_model.pt\")\n",
    "            print(f\"##########  Best Loss Model saved with loss: {best_val_loss:.4f}  ##########\")\n",
    "            torch.save({\n",
    "                \"model_state_dict\": model.state_dict(),\n",
    "                \"optimizer_state_dict\": optimizer.state_dict(),\n",
    "            }, save_dir + \"best_loss_simple_fold_checkpoint.pth\")\n",
    "            print(f\"##########  Best Loss Model saved checkpoin: {best_val_loss:.4f}  ##########\")\n",
    "        else:\n",
    "            early_cnt += 1  # 갱신되지 않은 경우 카운트 증가\n",
    "\n",
    "        if val_acc > best_val_acc:\n",
    "            best_val_acc = val_acc\n",
    "            torch.save(model, save_dir + f\"best_accuracy_simple_fold{fold+1}_model.pt\")\n",
    "            print(f\"##########  Best Accuracy Model saved with accuracy: {best_val_acc:.4f}  ##########\") \n",
    "\n",
    "        # 러닝 스케줄러\n",
    "        if isinstance(scheduler, torch.optim.lr_scheduler.ReduceLROnPlateau):\n",
    "            scheduler.step(val_loss)  # ReduceLROnPlateau는 validation loss를 기준으로\n",
    "        else:\n",
    "            scheduler.step()\n",
    "\n",
    "        # Early Stopping 확인\n",
    "        if early_cnt >= patience:\n",
    "            print(f\"{patience} 에포크 동안 Loss 개선 없음. 조기 종료.\")\n",
    "            early_stop = True\n",
    "\n",
    "# 성능 그래프 출력\n",
    "plt.figure(figsize=(12, 6))\n",
    "plt.plot(train_loss_, label=\"Train Loss\", marker='o')\n",
    "plt.plot(val_loss_, label=\"Validation Loss\", marker='o')\n",
    "plt.title(\"Simple Train/Validation Loss (K-Fold)\")\n",
    "plt.xlabel(\"Epoch\")\n",
    "plt.ylabel(\"Loss\")\n",
    "plt.legend()\n",
    "plt.grid()\n",
    "plt.show()\n",
    "\n",
    "plt.figure(figsize=(12, 6))\n",
    "plt.plot(train_acc_, label=\"Train Accuracy\", marker='o')\n",
    "plt.plot(val_acc_, label=\"Validation Accuracy\", marker='o')\n",
    "plt.title(\"Simple cnn Train/Validation Accuracy (K-Fold)\")\n",
    "plt.xlabel(\"Epoch\")\n",
    "plt.ylabel(\"Accuracy\")\n",
    "plt.legend()\n",
    "plt.grid()\n",
    "plt.show()\n",
    "\n",
    "print(\"SIMPLE CNN K-Fold Cross-Validation 완료\")\n"
   ]
  },
  {
   "cell_type": "code",
   "execution_count": 31,
   "id": "d04515e2",
   "metadata": {},
   "outputs": [
    {
     "name": "stdout",
     "output_type": "stream",
     "text": [
      "Precision score : 0.5863857374392221\n",
      "Recall score : 0.6205831903945112\n",
      "F-score : 0.603\n"
     ]
    },
    {
     "data": {
      "image/png": "[encoded data removed]",
      "text/plain": [
       "<Figure size 640x480 with 2 Axes>"
      ]
     },
     "metadata": {},
     "output_type": "display_data"
    }
   ],
   "source": [
    "threshold = 0.4\n",
    "from sklearn.metrics import ConfusionMatrixDisplay\n",
    "\n",
    "outputs = []\n",
    "v_loss = 0\n",
    "tp, tn, fp, fn = 0, 0, 0, 0\n",
    "\n",
    "model.eval()\n",
    "with torch.no_grad():\n",
    "    for image, w2v, label in val_loader:\n",
    "        image, w2v, label = image.float().to(device), w2v.float().to(device), label.float().to(device)\n",
    "\n",
    "        with torch.autocast(device_type='cuda', dtype=torch.float16):\n",
    "            output = model(image, w2v)\n",
    "            loss = criterion(output, label)\n",
    "\n",
    "        output = output.detach().sigmoid()\n",
    "        output = (output > threshold).long()\n",
    "        label, output = label.cpu(), output.cpu()\n",
    "\n",
    "        mcm = multilabel_confusion_matrix(label, output, samplewise=True)\n",
    "        outputs.append(mcm)\n",
    "\n",
    "        v_loss += loss.cpu().item()\n",
    "\n",
    "        # tp += ((label == 1) & (output == 1)).float().sum()\n",
    "        # tn += ((label == 0) & (output == 0)).float().sum()\n",
    "        # fp += ((label == 0) & (label != output)).float().sum()\n",
    "        # fn += ((label == 1) & (label != output)).float().sum()\n",
    "\n",
    "# # 1. tp, tn, fp, fn을 직접 구하는 방법 \n",
    "# precision = tp / (tp + fp)\n",
    "# recall = tp / (tp + fn)\n",
    "# f1 = 2 * (precision * recall) / (precision + recall)\n",
    "\n",
    "# # 2. confusion matrix의 결과를 바로 사용하는 방법 (tn, fp, fn, tp)\n",
    "# cm = [[tn, fp],\n",
    "#       [fn, tp]]\n",
    "\n",
    "conf = np.sum(np.concatenate(outputs), axis=0)\n",
    "precision = conf[1, 1] / (conf[1, 1] + conf[0, 1])\n",
    "recall = conf[1, 1] / (conf[1, 1] + conf[1, 0])\n",
    "f1 = 2 * (precision * recall) / (precision + recall)\n",
    "\n",
    "print(f'Precision score : {precision}')\n",
    "print(f'Recall score : {recall}')\n",
    "print(f'F-score : {f1}')\n",
    "\n",
    "disp = ConfusionMatrixDisplay(conf)\n",
    "disp.plot()\n",
    "plt.show()"
   ]
  },
  {
   "cell_type": "code",
   "execution_count": 34,
   "id": "45c00aea",
   "metadata": {},
   "outputs": [
    {
     "name": "stderr",
     "output_type": "stream",
     "text": [
      "Test: 100%|██████████| 315/315 [00:34<00:00,  9.05it/s]\n"
     ]
    }
   ],
   "source": [
    "def test(model, test_loader, threshold=0.4):\n",
    "    outputs = []\n",
    "\n",
    "    model.eval()\n",
    "    with torch.no_grad():\n",
    "        for image, w2v in tqdm(test_loader, desc='Test'):\n",
    "            image, w2v = image.float().to(device), w2v.float().to(device)\n",
    "\n",
    "            # Automatic Mixed Precision(AMP) 사용 (학습 속도, 메모리 절약)\n",
    "            with torch.autocast(device_type='cuda', dtype=torch.float16):\n",
    "                output = model(image, w2v)\n",
    "\n",
    "            output = output.detach().sigmoid()\n",
    "            output = (output > threshold).long()  # threshold를 기준으로 0/1 판별\n",
    "            outputs.append(output)\n",
    "\n",
    "    outputs = torch.cat(outputs, dim=0).cpu().numpy()\n",
    "\n",
    "    return outputs"
   ]
  },
  {
   "cell_type": "code",
   "execution_count": null,
   "id": "0720769a",
   "metadata": {},
   "outputs": [],
   "source": [
    "# Threshold  0.4 설정\n",
    "from datetime import datetime\n",
    "\n",
    "# \"C:\\sg0117\\hallym\\2024-dl-final\\save_model_Add_LSTM\\best_accuracy_model.pt\"\n",
    "# C:\\sg0117\\hallym\\2024-dl-final\\save_model_EfficentNet\\241214_EfficinetNet_best_accuracy_model.pt\n",
    "# C:\\sg0117\\hallym\\2024-dl-final\\save_model_k-fold_simple\\best_loss_simple_fold8_model.pt\n",
    "\n",
    "root_path = \"C:/sg0117/hallym/2024-dl-final/\"\n",
    "\n",
    "dt = datetime.now()\n",
    "ctime = dt.strftime('%m%d_%H%M')  # 현재 월/일_시/분 확인\n",
    "\n",
    "model = torch.load(root_path + \"save_model_k-fold_simple/best_loss_simple_fold8_model.pt\", weights_only=False)  # save_dir + [file_name]\n",
    "model = model.to(device)\n",
    "\n",
    "threshold = 0.3\n",
    "results = test(model, test_loader, threshold=threshold)\n",
    "\n",
    "submission = pd.read_csv(root_path + 'sample_submission.csv')\n",
    "\n",
    "submission.iloc[:, 1:] = results\n",
    "submission.to_csv(save_dir + f'submission_simple-CNN_with_k-fold8_test-TH4_BEST_Loss_{ctime}.csv', index=False)"
   ]
  }
 ],
 "metadata": {
  "kernelspec": {
   "display_name": "Python (DL)",
   "language": "python",
   "name": "dl"
  },
  "language_info": {
   "codemirror_mode": {
    "name": "ipython",
    "version": 3
   },
   "file_extension": ".py",
   "mimetype": "text/x-python",
   "name": "python",
   "nbconvert_exporter": "python",
   "pygments_lexer": "ipython3",
   "version": "3.9.20"
  }
 },
 "nbformat": 4,
 "nbformat_minor": 5
}
